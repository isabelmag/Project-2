{
 "cells": [
  {
   "cell_type": "code",
   "execution_count": 1,
   "metadata": {},
   "outputs": [],
   "source": [
    "import matplotlib\n",
    "import matplotlib.pyplot as plt \n",
    "import numpy as np \n",
    "import pandas as pd \n",
    "import sklearn"
   ]
  },
  {
   "cell_type": "markdown",
   "metadata": {},
   "source": [
    "# Step 1: Find and download a dataset."
   ]
  },
  {
   "cell_type": "code",
   "execution_count": 2,
   "metadata": {},
   "outputs": [],
   "source": [
    "conflict = pd.read_csv(\"Project 1_Data.csv\")"
   ]
  },
  {
   "cell_type": "code",
   "execution_count": 3,
   "metadata": {},
   "outputs": [
    {
     "name": "stdout",
     "output_type": "stream",
     "text": [
      "Index(['Country Name', 'Year',\n",
      "       'Adjusted_net_national_income_per_capita__current_US__',\n",
      "       'Death_rate__crude__per_1_000_people_', 'GDP__current_US__',\n",
      "       'GDP_per_capita__current_US__', 'Military_expenditure__current_USD_',\n",
      "       'Population_density__people_per_sq__km_of_land_area_',\n",
      "       'Population__total', 'Rural_population', 'Urban_population',\n",
      "       'Battle_related_deaths__number_of_people_'],\n",
      "      dtype='object')\n"
     ]
    }
   ],
   "source": [
    "print(conflict.columns)"
   ]
  },
  {
   "cell_type": "code",
   "execution_count": 4,
   "metadata": {
    "scrolled": false
   },
   "outputs": [
    {
     "name": "stdout",
     "output_type": "stream",
     "text": [
      "<class 'pandas.core.frame.DataFrame'>\n",
      "RangeIndex: 13440 entries, 0 to 13439\n",
      "Data columns (total 12 columns):\n",
      "Country Name                                             13440 non-null object\n",
      "Year                                                     13440 non-null int64\n",
      "Adjusted_net_national_income_per_capita__current_US__    6909 non-null float64\n",
      "Death_rate__crude__per_1_000_people_                     11975 non-null float64\n",
      "GDP__current_US__                                        10040 non-null float64\n",
      "GDP_per_capita__current_US__                             10037 non-null float64\n",
      "Military_expenditure__current_USD_                       7448 non-null float64\n",
      "Population_density__people_per_sq__km_of_land_area_      12568 non-null float64\n",
      "Population__total                                        13108 non-null float64\n",
      "Rural_population                                         12990 non-null float64\n",
      "Urban_population                                         12990 non-null float64\n",
      "Battle_related_deaths__number_of_people_                 13440 non-null int64\n",
      "dtypes: float64(9), int64(2), object(1)\n",
      "memory usage: 1.2+ MB\n",
      "None\n"
     ]
    }
   ],
   "source": [
    "print(conflict.info())"
   ]
  },
  {
   "cell_type": "markdown",
   "metadata": {},
   "source": [
    "# Step 2: Divide into a training set and a testing set. "
   ]
  },
  {
   "cell_type": "markdown",
   "metadata": {},
   "source": [
    "I'm stratifying my split based on GDP."
   ]
  },
  {
   "cell_type": "code",
   "execution_count": 5,
   "metadata": {},
   "outputs": [],
   "source": [
    "conflict[\"GDP_cat\"] = np.ceil(conflict[\"GDP__current_US__\"] / 1.5) \n",
    "conflict[\"GDP_cat\"].where(conflict[\"GDP_cat\"] < 5, 5.0, inplace=True)"
   ]
  },
  {
   "cell_type": "code",
   "execution_count": 6,
   "metadata": {},
   "outputs": [],
   "source": [
    "from sklearn.model_selection import StratifiedShuffleSplit\n",
    "\n",
    "split = StratifiedShuffleSplit(n_splits=1, test_size=0.33, random_state=42) \n",
    "for train_index, test_index in split.split(conflict, conflict[\"GDP_cat\"]):    \n",
    "    strat_train_set = conflict.loc[train_index]    \n",
    "    strat_test_set = conflict.loc[test_index]"
   ]
  },
  {
   "cell_type": "code",
   "execution_count": 7,
   "metadata": {},
   "outputs": [
    {
     "data": {
      "text/plain": [
       "5.0    1.0\n",
       "Name: GDP_cat, dtype: float64"
      ]
     },
     "execution_count": 7,
     "metadata": {},
     "output_type": "execute_result"
    }
   ],
   "source": [
    "conflict[\"GDP_cat\"].value_counts() / len(conflict)"
   ]
  },
  {
   "cell_type": "code",
   "execution_count": 8,
   "metadata": {},
   "outputs": [],
   "source": [
    "for set in (strat_train_set, strat_test_set):\n",
    "    set.drop([\"GDP_cat\"], axis=1, inplace=True)"
   ]
  },
  {
   "cell_type": "code",
   "execution_count": 9,
   "metadata": {},
   "outputs": [],
   "source": [
    "conflict_train = strat_train_set"
   ]
  },
  {
   "cell_type": "code",
   "execution_count": 10,
   "metadata": {},
   "outputs": [
    {
     "data": {
      "text/html": [
       "<div>\n",
       "<style scoped>\n",
       "    .dataframe tbody tr th:only-of-type {\n",
       "        vertical-align: middle;\n",
       "    }\n",
       "\n",
       "    .dataframe tbody tr th {\n",
       "        vertical-align: top;\n",
       "    }\n",
       "\n",
       "    .dataframe thead th {\n",
       "        text-align: right;\n",
       "    }\n",
       "</style>\n",
       "<table border=\"1\" class=\"dataframe\">\n",
       "  <thead>\n",
       "    <tr style=\"text-align: right;\">\n",
       "      <th></th>\n",
       "      <th>Country Name</th>\n",
       "      <th>Year</th>\n",
       "      <th>Adjusted_net_national_income_per_capita__current_US__</th>\n",
       "      <th>Death_rate__crude__per_1_000_people_</th>\n",
       "      <th>GDP__current_US__</th>\n",
       "      <th>GDP_per_capita__current_US__</th>\n",
       "      <th>Military_expenditure__current_USD_</th>\n",
       "      <th>Population_density__people_per_sq__km_of_land_area_</th>\n",
       "      <th>Population__total</th>\n",
       "      <th>Rural_population</th>\n",
       "      <th>Urban_population</th>\n",
       "      <th>Battle_related_deaths__number_of_people_</th>\n",
       "    </tr>\n",
       "  </thead>\n",
       "  <tbody>\n",
       "    <tr>\n",
       "      <td>7150</td>\n",
       "      <td>Lithuania</td>\n",
       "      <td>1970</td>\n",
       "      <td>NaN</td>\n",
       "      <td>8.900</td>\n",
       "      <td>NaN</td>\n",
       "      <td>NaN</td>\n",
       "      <td>NaN</td>\n",
       "      <td>50.090763</td>\n",
       "      <td>3139689.0</td>\n",
       "      <td>1583816.0</td>\n",
       "      <td>1555873.0</td>\n",
       "      <td>0</td>\n",
       "    </tr>\n",
       "    <tr>\n",
       "      <td>8731</td>\n",
       "      <td>New Zealand</td>\n",
       "      <td>1991</td>\n",
       "      <td>9455.013339</td>\n",
       "      <td>8.000</td>\n",
       "      <td>4.274533e+10</td>\n",
       "      <td>12230.073450</td>\n",
       "      <td>9.890338e+08</td>\n",
       "      <td>13.273708</td>\n",
       "      <td>3495100.0</td>\n",
       "      <td>526013.0</td>\n",
       "      <td>2969087.0</td>\n",
       "      <td>0</td>\n",
       "    </tr>\n",
       "    <tr>\n",
       "      <td>5598</td>\n",
       "      <td>India</td>\n",
       "      <td>1978</td>\n",
       "      <td>185.336143</td>\n",
       "      <td>13.892</td>\n",
       "      <td>1.370000e+11</td>\n",
       "      <td>205.693386</td>\n",
       "      <td>3.975819e+09</td>\n",
       "      <td>224.506273</td>\n",
       "      <td>667499806.0</td>\n",
       "      <td>518120024.0</td>\n",
       "      <td>149379782.0</td>\n",
       "      <td>0</td>\n",
       "    </tr>\n",
       "    <tr>\n",
       "      <td>1950</td>\n",
       "      <td>Cabo Verde</td>\n",
       "      <td>1990</td>\n",
       "      <td>752.081703</td>\n",
       "      <td>8.483</td>\n",
       "      <td>3.068911e+08</td>\n",
       "      <td>908.096190</td>\n",
       "      <td>NaN</td>\n",
       "      <td>83.858561</td>\n",
       "      <td>337950.0</td>\n",
       "      <td>188846.0</td>\n",
       "      <td>149104.0</td>\n",
       "      <td>0</td>\n",
       "    </tr>\n",
       "    <tr>\n",
       "      <td>4756</td>\n",
       "      <td>Greece</td>\n",
       "      <td>1976</td>\n",
       "      <td>3125.278722</td>\n",
       "      <td>8.900</td>\n",
       "      <td>3.115284e+10</td>\n",
       "      <td>3390.545484</td>\n",
       "      <td>1.559887e+09</td>\n",
       "      <td>71.281226</td>\n",
       "      <td>9188150.0</td>\n",
       "      <td>2992672.0</td>\n",
       "      <td>6195478.0</td>\n",
       "      <td>0</td>\n",
       "    </tr>\n",
       "  </tbody>\n",
       "</table>\n",
       "</div>"
      ],
      "text/plain": [
       "     Country Name  Year  \\\n",
       "7150    Lithuania  1970   \n",
       "8731  New Zealand  1991   \n",
       "5598        India  1978   \n",
       "1950   Cabo Verde  1990   \n",
       "4756       Greece  1976   \n",
       "\n",
       "      Adjusted_net_national_income_per_capita__current_US__  \\\n",
       "7150                                                NaN       \n",
       "8731                                        9455.013339       \n",
       "5598                                         185.336143       \n",
       "1950                                         752.081703       \n",
       "4756                                        3125.278722       \n",
       "\n",
       "      Death_rate__crude__per_1_000_people_  GDP__current_US__  \\\n",
       "7150                                 8.900                NaN   \n",
       "8731                                 8.000       4.274533e+10   \n",
       "5598                                13.892       1.370000e+11   \n",
       "1950                                 8.483       3.068911e+08   \n",
       "4756                                 8.900       3.115284e+10   \n",
       "\n",
       "      GDP_per_capita__current_US__  Military_expenditure__current_USD_  \\\n",
       "7150                           NaN                                 NaN   \n",
       "8731                  12230.073450                        9.890338e+08   \n",
       "5598                    205.693386                        3.975819e+09   \n",
       "1950                    908.096190                                 NaN   \n",
       "4756                   3390.545484                        1.559887e+09   \n",
       "\n",
       "      Population_density__people_per_sq__km_of_land_area_  Population__total  \\\n",
       "7150                                          50.090763            3139689.0   \n",
       "8731                                          13.273708            3495100.0   \n",
       "5598                                         224.506273          667499806.0   \n",
       "1950                                          83.858561             337950.0   \n",
       "4756                                          71.281226            9188150.0   \n",
       "\n",
       "      Rural_population  Urban_population  \\\n",
       "7150         1583816.0         1555873.0   \n",
       "8731          526013.0         2969087.0   \n",
       "5598       518120024.0       149379782.0   \n",
       "1950          188846.0          149104.0   \n",
       "4756         2992672.0         6195478.0   \n",
       "\n",
       "      Battle_related_deaths__number_of_people_  \n",
       "7150                                         0  \n",
       "8731                                         0  \n",
       "5598                                         0  \n",
       "1950                                         0  \n",
       "4756                                         0  "
      ]
     },
     "execution_count": 10,
     "metadata": {},
     "output_type": "execute_result"
    }
   ],
   "source": [
    "conflict_train.head()"
   ]
  },
  {
   "cell_type": "code",
   "execution_count": 11,
   "metadata": {},
   "outputs": [
    {
     "data": {
      "text/plain": [
       "(9004, 12)"
      ]
     },
     "execution_count": 11,
     "metadata": {},
     "output_type": "execute_result"
    }
   ],
   "source": [
    "conflict_train.shape"
   ]
  },
  {
   "cell_type": "markdown",
   "metadata": {},
   "source": [
    "# Step 3: Explore your training set."
   ]
  },
  {
   "cell_type": "code",
   "execution_count": 12,
   "metadata": {},
   "outputs": [
    {
     "name": "stdout",
     "output_type": "stream",
     "text": [
      "<class 'pandas.core.frame.DataFrame'>\n",
      "Int64Index: 9004 entries, 7150 to 12354\n",
      "Data columns (total 12 columns):\n",
      "Country Name                                             9004 non-null object\n",
      "Year                                                     9004 non-null int64\n",
      "Adjusted_net_national_income_per_capita__current_US__    4605 non-null float64\n",
      "Death_rate__crude__per_1_000_people_                     8006 non-null float64\n",
      "GDP__current_US__                                        6706 non-null float64\n",
      "GDP_per_capita__current_US__                             6704 non-null float64\n",
      "Military_expenditure__current_USD_                       4999 non-null float64\n",
      "Population_density__people_per_sq__km_of_land_area_      8421 non-null float64\n",
      "Population__total                                        8774 non-null float64\n",
      "Rural_population                                         8700 non-null float64\n",
      "Urban_population                                         8700 non-null float64\n",
      "Battle_related_deaths__number_of_people_                 9004 non-null int64\n",
      "dtypes: float64(9), int64(2), object(1)\n",
      "memory usage: 914.5+ KB\n"
     ]
    }
   ],
   "source": [
    "conflict_train.info()"
   ]
  },
  {
   "cell_type": "code",
   "execution_count": 13,
   "metadata": {
    "scrolled": true
   },
   "outputs": [
    {
     "name": "stdout",
     "output_type": "stream",
     "text": [
      "              Year  Adjusted_net_national_income_per_capita__current_US__  \\\n",
      "count  9004.000000                                        4605.000000       \n",
      "mean   1989.442137                                        6412.119733       \n",
      "std      17.394741                                       10547.522254       \n",
      "min    1960.000000                                         -37.489742       \n",
      "25%    1974.000000                                         590.699182       \n",
      "50%    1989.000000                                        1930.880875       \n",
      "75%    2005.000000                                        6810.924560       \n",
      "max    2019.000000                                       82487.467830       \n",
      "\n",
      "       Death_rate__crude__per_1_000_people_  GDP__current_US__  \\\n",
      "count                           8006.000000       6.706000e+03   \n",
      "mean                              10.524555       3.951974e+11   \n",
      "std                                5.328557       2.609610e+12   \n",
      "min                                1.127000       9.742949e+06   \n",
      "25%                                6.926250       1.464656e+09   \n",
      "50%                                9.200000       7.826707e+09   \n",
      "75%                               12.500000       5.671380e+10   \n",
      "max                               51.642000       5.420000e+13   \n",
      "\n",
      "       GDP_per_capita__current_US__  Military_expenditure__current_USD_  \\\n",
      "count                   6704.000000                        4.999000e+03   \n",
      "mean                    8508.160296                        1.398647e+10   \n",
      "std                    16442.531660                        8.010744e+10   \n",
      "min                       37.488783                        0.000000e+00   \n",
      "25%                      555.058639                        5.934142e+07   \n",
      "50%                     2029.515329                        3.690708e+08   \n",
      "75%                     8221.468433                        2.670977e+09   \n",
      "max                   189170.895700                        1.280000e+12   \n",
      "\n",
      "       Population_density__people_per_sq__km_of_land_area_  Population__total  \\\n",
      "count                                        8421.000000         8.774000e+03   \n",
      "mean                                          324.387151         3.207873e+07   \n",
      "std                                          1597.272701         1.247353e+08   \n",
      "min                                             0.098625         3.893000e+03   \n",
      "25%                                            19.027628         5.502742e+05   \n",
      "50%                                            63.239393         4.313896e+06   \n",
      "75%                                           142.070814         1.484861e+07   \n",
      "max                                         21389.100000         1.392730e+09   \n",
      "\n",
      "       Rural_population  Urban_population  \\\n",
      "count      8.700000e+03      8.700000e+03   \n",
      "mean       1.532626e+07      1.701851e+07   \n",
      "std        6.946530e+07      6.889527e+07   \n",
      "min        0.000000e+00      8.770000e+02   \n",
      "25%        2.115405e+05      2.198105e+05   \n",
      "50%        2.048768e+06      1.752737e+06   \n",
      "75%        7.781066e+06      7.069335e+06   \n",
      "max        8.923217e+08      9.843768e+08   \n",
      "\n",
      "       Battle_related_deaths__number_of_people_  \n",
      "count                               9004.000000  \n",
      "mean                                 118.055309  \n",
      "std                                 1535.634372  \n",
      "min                                    0.000000  \n",
      "25%                                    0.000000  \n",
      "50%                                    0.000000  \n",
      "75%                                    0.000000  \n",
      "max                                69199.000000  \n"
     ]
    }
   ],
   "source": [
    "print(conflict_train.describe())"
   ]
  },
  {
   "cell_type": "markdown",
   "metadata": {},
   "source": [
    "# Step 4a: Clean your train set"
   ]
  },
  {
   "cell_type": "code",
   "execution_count": 14,
   "metadata": {},
   "outputs": [
    {
     "name": "stdout",
     "output_type": "stream",
     "text": [
      "Country Name                                              object\n",
      "Year                                                       int64\n",
      "Adjusted_net_national_income_per_capita__current_US__    float64\n",
      "Death_rate__crude__per_1_000_people_                     float64\n",
      "GDP__current_US__                                        float64\n",
      "GDP_per_capita__current_US__                             float64\n",
      "Military_expenditure__current_USD_                       float64\n",
      "Population_density__people_per_sq__km_of_land_area_      float64\n",
      "Population__total                                        float64\n",
      "Rural_population                                         float64\n",
      "Urban_population                                         float64\n",
      "Battle_related_deaths__number_of_people_                   int64\n",
      "dtype: object\n"
     ]
    }
   ],
   "source": [
    "print(conflict_train.dtypes)"
   ]
  },
  {
   "cell_type": "markdown",
   "metadata": {},
   "source": [
    "I'm separating my data by types - categorical and continuous - so that I can clean each variable properly, either One Hot Encoding or Imputing with the mean."
   ]
  },
  {
   "cell_type": "code",
   "execution_count": 15,
   "metadata": {},
   "outputs": [],
   "source": [
    "conflict_train[\"Year\"] = conflict_train[\"Year\"].astype(\"object\")"
   ]
  },
  {
   "cell_type": "code",
   "execution_count": 16,
   "metadata": {
    "scrolled": true
   },
   "outputs": [
    {
     "name": "stdout",
     "output_type": "stream",
     "text": [
      "Country Name                                              object\n",
      "Year                                                      object\n",
      "Adjusted_net_national_income_per_capita__current_US__    float64\n",
      "Death_rate__crude__per_1_000_people_                     float64\n",
      "GDP__current_US__                                        float64\n",
      "GDP_per_capita__current_US__                             float64\n",
      "Military_expenditure__current_USD_                       float64\n",
      "Population_density__people_per_sq__km_of_land_area_      float64\n",
      "Population__total                                        float64\n",
      "Rural_population                                         float64\n",
      "Urban_population                                         float64\n",
      "Battle_related_deaths__number_of_people_                   int64\n",
      "dtype: object\n"
     ]
    }
   ],
   "source": [
    "print(conflict_train.dtypes)"
   ]
  },
  {
   "cell_type": "code",
   "execution_count": 17,
   "metadata": {},
   "outputs": [
    {
     "name": "stdout",
     "output_type": "stream",
     "text": [
      "Country Name                                                0\n",
      "Year                                                        0\n",
      "Adjusted_net_national_income_per_capita__current_US__    4399\n",
      "Death_rate__crude__per_1_000_people_                      998\n",
      "GDP__current_US__                                        2298\n",
      "GDP_per_capita__current_US__                             2300\n",
      "Military_expenditure__current_USD_                       4005\n",
      "Population_density__people_per_sq__km_of_land_area_       583\n",
      "Population__total                                         230\n",
      "Rural_population                                          304\n",
      "Urban_population                                          304\n",
      "Battle_related_deaths__number_of_people_                    0\n",
      "dtype: int64\n"
     ]
    }
   ],
   "source": [
    "print(conflict_train.isnull().sum())"
   ]
  },
  {
   "cell_type": "markdown",
   "metadata": {},
   "source": [
    "Encoding categorical variables Country Name and Year."
   ]
  },
  {
   "cell_type": "code",
   "execution_count": 18,
   "metadata": {},
   "outputs": [],
   "source": [
    "countryname_enc = pd.get_dummies(conflict_train[\"Country Name\"])"
   ]
  },
  {
   "cell_type": "code",
   "execution_count": 19,
   "metadata": {
    "scrolled": true
   },
   "outputs": [
    {
     "name": "stdout",
     "output_type": "stream",
     "text": [
      "<class 'pandas.core.frame.DataFrame'>\n",
      "Int64Index: 9004 entries, 7150 to 12354\n",
      "Columns: 224 entries, Afghanistan to Zimbabwe\n",
      "dtypes: uint8(224)\n",
      "memory usage: 2.0 MB\n",
      "None\n"
     ]
    }
   ],
   "source": [
    "print(countryname_enc.info())"
   ]
  },
  {
   "cell_type": "code",
   "execution_count": 20,
   "metadata": {},
   "outputs": [],
   "source": [
    "year_enc = pd.get_dummies(conflict_train[\"Year\"])"
   ]
  },
  {
   "cell_type": "code",
   "execution_count": 21,
   "metadata": {},
   "outputs": [
    {
     "name": "stdout",
     "output_type": "stream",
     "text": [
      "<class 'pandas.core.frame.DataFrame'>\n",
      "Int64Index: 9004 entries, 7150 to 12354\n",
      "Data columns (total 60 columns):\n",
      "1960    9004 non-null uint8\n",
      "1961    9004 non-null uint8\n",
      "1962    9004 non-null uint8\n",
      "1963    9004 non-null uint8\n",
      "1964    9004 non-null uint8\n",
      "1965    9004 non-null uint8\n",
      "1966    9004 non-null uint8\n",
      "1967    9004 non-null uint8\n",
      "1968    9004 non-null uint8\n",
      "1969    9004 non-null uint8\n",
      "1970    9004 non-null uint8\n",
      "1971    9004 non-null uint8\n",
      "1972    9004 non-null uint8\n",
      "1973    9004 non-null uint8\n",
      "1974    9004 non-null uint8\n",
      "1975    9004 non-null uint8\n",
      "1976    9004 non-null uint8\n",
      "1977    9004 non-null uint8\n",
      "1978    9004 non-null uint8\n",
      "1979    9004 non-null uint8\n",
      "1980    9004 non-null uint8\n",
      "1981    9004 non-null uint8\n",
      "1982    9004 non-null uint8\n",
      "1983    9004 non-null uint8\n",
      "1984    9004 non-null uint8\n",
      "1985    9004 non-null uint8\n",
      "1986    9004 non-null uint8\n",
      "1987    9004 non-null uint8\n",
      "1988    9004 non-null uint8\n",
      "1989    9004 non-null uint8\n",
      "1990    9004 non-null uint8\n",
      "1991    9004 non-null uint8\n",
      "1992    9004 non-null uint8\n",
      "1993    9004 non-null uint8\n",
      "1994    9004 non-null uint8\n",
      "1995    9004 non-null uint8\n",
      "1996    9004 non-null uint8\n",
      "1997    9004 non-null uint8\n",
      "1998    9004 non-null uint8\n",
      "1999    9004 non-null uint8\n",
      "2000    9004 non-null uint8\n",
      "2001    9004 non-null uint8\n",
      "2002    9004 non-null uint8\n",
      "2003    9004 non-null uint8\n",
      "2004    9004 non-null uint8\n",
      "2005    9004 non-null uint8\n",
      "2006    9004 non-null uint8\n",
      "2007    9004 non-null uint8\n",
      "2008    9004 non-null uint8\n",
      "2009    9004 non-null uint8\n",
      "2010    9004 non-null uint8\n",
      "2011    9004 non-null uint8\n",
      "2012    9004 non-null uint8\n",
      "2013    9004 non-null uint8\n",
      "2014    9004 non-null uint8\n",
      "2015    9004 non-null uint8\n",
      "2016    9004 non-null uint8\n",
      "2017    9004 non-null uint8\n",
      "2018    9004 non-null uint8\n",
      "2019    9004 non-null uint8\n",
      "dtypes: uint8(60)\n",
      "memory usage: 597.9 KB\n",
      "None\n"
     ]
    }
   ],
   "source": [
    "print(year_enc.info())"
   ]
  },
  {
   "cell_type": "markdown",
   "metadata": {},
   "source": [
    "Imputing Mean values for Nulls in continuous variables."
   ]
  },
  {
   "cell_type": "code",
   "execution_count": 22,
   "metadata": {
    "scrolled": true
   },
   "outputs": [
    {
     "name": "stderr",
     "output_type": "stream",
     "text": [
      "C:\\Python\\lib\\site-packages\\sklearn\\utils\\deprecation.py:66: DeprecationWarning: Class Imputer is deprecated; Imputer was deprecated in version 0.20 and will be removed in 0.22. Import impute.SimpleImputer from sklearn instead.\n",
      "  warnings.warn(msg, category=DeprecationWarning)\n"
     ]
    }
   ],
   "source": [
    "from sklearn.preprocessing import Imputer\n",
    "imputer = Imputer(strategy=\"mean\")"
   ]
  },
  {
   "cell_type": "code",
   "execution_count": 23,
   "metadata": {},
   "outputs": [],
   "source": [
    "conflict_num = conflict_train.drop(\"Country Name\", axis=1)"
   ]
  },
  {
   "cell_type": "code",
   "execution_count": 24,
   "metadata": {},
   "outputs": [],
   "source": [
    "conflict_num = conflict_num.drop(\"Year\", axis=1)"
   ]
  },
  {
   "cell_type": "code",
   "execution_count": 25,
   "metadata": {},
   "outputs": [
    {
     "data": {
      "text/plain": [
       "(9004, 10)"
      ]
     },
     "execution_count": 25,
     "metadata": {},
     "output_type": "execute_result"
    }
   ],
   "source": [
    "conflict_num.shape"
   ]
  },
  {
   "cell_type": "code",
   "execution_count": 26,
   "metadata": {},
   "outputs": [
    {
     "name": "stdout",
     "output_type": "stream",
     "text": [
      "<class 'pandas.core.frame.DataFrame'>\n",
      "Int64Index: 9004 entries, 7150 to 12354\n",
      "Data columns (total 10 columns):\n",
      "Adjusted_net_national_income_per_capita__current_US__    4605 non-null float64\n",
      "Death_rate__crude__per_1_000_people_                     8006 non-null float64\n",
      "GDP__current_US__                                        6706 non-null float64\n",
      "GDP_per_capita__current_US__                             6704 non-null float64\n",
      "Military_expenditure__current_USD_                       4999 non-null float64\n",
      "Population_density__people_per_sq__km_of_land_area_      8421 non-null float64\n",
      "Population__total                                        8774 non-null float64\n",
      "Rural_population                                         8700 non-null float64\n",
      "Urban_population                                         8700 non-null float64\n",
      "Battle_related_deaths__number_of_people_                 9004 non-null int64\n",
      "dtypes: float64(9), int64(1)\n",
      "memory usage: 773.8 KB\n"
     ]
    }
   ],
   "source": [
    "conflict_num.info()"
   ]
  },
  {
   "cell_type": "code",
   "execution_count": 27,
   "metadata": {},
   "outputs": [
    {
     "data": {
      "text/plain": [
       "Imputer(axis=0, copy=True, missing_values='NaN', strategy='mean', verbose=0)"
      ]
     },
     "execution_count": 27,
     "metadata": {},
     "output_type": "execute_result"
    }
   ],
   "source": [
    "imputer.fit(conflict_num)"
   ]
  },
  {
   "cell_type": "code",
   "execution_count": 28,
   "metadata": {},
   "outputs": [
    {
     "data": {
      "text/plain": [
       "array([6.41211973e+03, 1.05245555e+01, 3.95197405e+11, 8.50816030e+03,\n",
       "       1.39864673e+10, 3.24387151e+02, 3.20787284e+07, 1.53262563e+07,\n",
       "       1.70185128e+07, 1.18055309e+02])"
      ]
     },
     "execution_count": 28,
     "metadata": {},
     "output_type": "execute_result"
    }
   ],
   "source": [
    "imputer.statistics_"
   ]
  },
  {
   "cell_type": "code",
   "execution_count": 29,
   "metadata": {},
   "outputs": [
    {
     "data": {
      "text/plain": [
       "array([6.41211973e+03, 1.05245555e+01, 3.95197405e+11, 8.50816030e+03,\n",
       "       1.39864673e+10, 3.24387151e+02, 3.20787284e+07, 1.53262563e+07,\n",
       "       1.70185128e+07, 1.18055309e+02])"
      ]
     },
     "execution_count": 29,
     "metadata": {},
     "output_type": "execute_result"
    }
   ],
   "source": [
    "conflict_num.mean().values"
   ]
  },
  {
   "cell_type": "code",
   "execution_count": 30,
   "metadata": {},
   "outputs": [],
   "source": [
    "X = imputer.transform(conflict_num)"
   ]
  },
  {
   "cell_type": "code",
   "execution_count": 31,
   "metadata": {},
   "outputs": [],
   "source": [
    "conflict_train2 = pd.DataFrame(X, columns=conflict_num.columns)"
   ]
  },
  {
   "cell_type": "code",
   "execution_count": 32,
   "metadata": {},
   "outputs": [
    {
     "name": "stdout",
     "output_type": "stream",
     "text": [
      "<class 'pandas.core.frame.DataFrame'>\n",
      "RangeIndex: 9004 entries, 0 to 9003\n",
      "Data columns (total 10 columns):\n",
      "Adjusted_net_national_income_per_capita__current_US__    9004 non-null float64\n",
      "Death_rate__crude__per_1_000_people_                     9004 non-null float64\n",
      "GDP__current_US__                                        9004 non-null float64\n",
      "GDP_per_capita__current_US__                             9004 non-null float64\n",
      "Military_expenditure__current_USD_                       9004 non-null float64\n",
      "Population_density__people_per_sq__km_of_land_area_      9004 non-null float64\n",
      "Population__total                                        9004 non-null float64\n",
      "Rural_population                                         9004 non-null float64\n",
      "Urban_population                                         9004 non-null float64\n",
      "Battle_related_deaths__number_of_people_                 9004 non-null float64\n",
      "dtypes: float64(10)\n",
      "memory usage: 703.6 KB\n"
     ]
    }
   ],
   "source": [
    "conflict_train2.info()"
   ]
  },
  {
   "cell_type": "code",
   "execution_count": 33,
   "metadata": {
    "scrolled": true
   },
   "outputs": [
    {
     "name": "stdout",
     "output_type": "stream",
     "text": [
      "Adjusted_net_national_income_per_capita__current_US__    0\n",
      "Death_rate__crude__per_1_000_people_                     0\n",
      "GDP__current_US__                                        0\n",
      "GDP_per_capita__current_US__                             0\n",
      "Military_expenditure__current_USD_                       0\n",
      "Population_density__people_per_sq__km_of_land_area_      0\n",
      "Population__total                                        0\n",
      "Rural_population                                         0\n",
      "Urban_population                                         0\n",
      "Battle_related_deaths__number_of_people_                 0\n",
      "dtype: int64\n"
     ]
    }
   ],
   "source": [
    "print(conflict_train2.isnull().sum())"
   ]
  },
  {
   "cell_type": "markdown",
   "metadata": {},
   "source": [
    "Concatenating the three dataframes: country name, year, conflict_tr. I reset their indexes below because NAs are introduced, otherwise."
   ]
  },
  {
   "cell_type": "code",
   "execution_count": 34,
   "metadata": {},
   "outputs": [],
   "source": [
    "countryname_enc.reset_index(drop=True, inplace=True)\n",
    "year_enc.reset_index(drop=True, inplace=True)\n",
    "conflict_train2.reset_index(drop=True, inplace=True)"
   ]
  },
  {
   "cell_type": "code",
   "execution_count": 35,
   "metadata": {},
   "outputs": [
    {
     "data": {
      "text/plain": [
       "(9004, 224)"
      ]
     },
     "execution_count": 35,
     "metadata": {},
     "output_type": "execute_result"
    }
   ],
   "source": [
    "countryname_enc.shape"
   ]
  },
  {
   "cell_type": "code",
   "execution_count": 36,
   "metadata": {},
   "outputs": [
    {
     "data": {
      "text/plain": [
       "(9004, 60)"
      ]
     },
     "execution_count": 36,
     "metadata": {},
     "output_type": "execute_result"
    }
   ],
   "source": [
    "year_enc.shape"
   ]
  },
  {
   "cell_type": "code",
   "execution_count": 37,
   "metadata": {},
   "outputs": [
    {
     "data": {
      "text/plain": [
       "(9004, 10)"
      ]
     },
     "execution_count": 37,
     "metadata": {},
     "output_type": "execute_result"
    }
   ],
   "source": [
    "conflict_train2.shape"
   ]
  },
  {
   "cell_type": "code",
   "execution_count": 38,
   "metadata": {},
   "outputs": [],
   "source": [
    "finalconflicttrain = countryname_enc.join(year_enc, on=None, how='left', lsuffix='', rsuffix='', sort=False)"
   ]
  },
  {
   "cell_type": "code",
   "execution_count": 39,
   "metadata": {},
   "outputs": [],
   "source": [
    "conflict_train3 = finalconflicttrain.join(conflict_train2, on=None, how='left', lsuffix='', rsuffix='', sort=False)"
   ]
  },
  {
   "cell_type": "code",
   "execution_count": 40,
   "metadata": {},
   "outputs": [
    {
     "data": {
      "text/plain": [
       "(9004, 294)"
      ]
     },
     "execution_count": 40,
     "metadata": {},
     "output_type": "execute_result"
    }
   ],
   "source": [
    "conflict_train3.shape"
   ]
  },
  {
   "cell_type": "code",
   "execution_count": 41,
   "metadata": {},
   "outputs": [
    {
     "name": "stdout",
     "output_type": "stream",
     "text": [
      "Index([                                          'Afghanistan',\n",
      "                                                     'Albania',\n",
      "                                                     'Algeria',\n",
      "                                              'American Samoa',\n",
      "                                                     'Andorra',\n",
      "                                                      'Angola',\n",
      "                                         'Antigua and Barbuda',\n",
      "                                                   'Argentina',\n",
      "                                                     'Armenia',\n",
      "                                                       'Aruba',\n",
      "       ...\n",
      "       'Adjusted_net_national_income_per_capita__current_US__',\n",
      "                        'Death_rate__crude__per_1_000_people_',\n",
      "                                           'GDP__current_US__',\n",
      "                                'GDP_per_capita__current_US__',\n",
      "                          'Military_expenditure__current_USD_',\n",
      "         'Population_density__people_per_sq__km_of_land_area_',\n",
      "                                           'Population__total',\n",
      "                                            'Rural_population',\n",
      "                                            'Urban_population',\n",
      "                    'Battle_related_deaths__number_of_people_'],\n",
      "      dtype='object', length=294)\n"
     ]
    }
   ],
   "source": [
    "print(conflict_train3.columns)"
   ]
  },
  {
   "cell_type": "code",
   "execution_count": 42,
   "metadata": {},
   "outputs": [
    {
     "name": "stdout",
     "output_type": "stream",
     "text": [
      "Afghanistan                                            0\n",
      "Albania                                                0\n",
      "Algeria                                                0\n",
      "American Samoa                                         0\n",
      "Andorra                                                0\n",
      "                                                      ..\n",
      "Population_density__people_per_sq__km_of_land_area_    0\n",
      "Population__total                                      0\n",
      "Rural_population                                       0\n",
      "Urban_population                                       0\n",
      "Battle_related_deaths__number_of_people_               0\n",
      "Length: 294, dtype: int64\n"
     ]
    }
   ],
   "source": [
    "print(conflict_train3.isnull().sum())"
   ]
  },
  {
   "cell_type": "markdown",
   "metadata": {},
   "source": [
    "My train set, conflict_train3 is all clean and properly encoded. Now, I do the same thing with my test set."
   ]
  },
  {
   "cell_type": "markdown",
   "metadata": {},
   "source": [
    "# Step 4b: Clean your test set. "
   ]
  },
  {
   "cell_type": "code",
   "execution_count": 43,
   "metadata": {},
   "outputs": [],
   "source": [
    "conflict_test = strat_test_set"
   ]
  },
  {
   "cell_type": "code",
   "execution_count": 44,
   "metadata": {},
   "outputs": [
    {
     "name": "stdout",
     "output_type": "stream",
     "text": [
      "Country Name                                              object\n",
      "Year                                                       int64\n",
      "Adjusted_net_national_income_per_capita__current_US__    float64\n",
      "Death_rate__crude__per_1_000_people_                     float64\n",
      "GDP__current_US__                                        float64\n",
      "GDP_per_capita__current_US__                             float64\n",
      "Military_expenditure__current_USD_                       float64\n",
      "Population_density__people_per_sq__km_of_land_area_      float64\n",
      "Population__total                                        float64\n",
      "Rural_population                                         float64\n",
      "Urban_population                                         float64\n",
      "Battle_related_deaths__number_of_people_                   int64\n",
      "dtype: object\n"
     ]
    }
   ],
   "source": [
    "print(conflict_test.dtypes)"
   ]
  },
  {
   "cell_type": "code",
   "execution_count": 45,
   "metadata": {},
   "outputs": [],
   "source": [
    "conflict_test[\"Year\"] = conflict_test[\"Year\"].astype(\"object\")"
   ]
  },
  {
   "cell_type": "code",
   "execution_count": 46,
   "metadata": {
    "scrolled": true
   },
   "outputs": [
    {
     "name": "stdout",
     "output_type": "stream",
     "text": [
      "Country Name                                              object\n",
      "Year                                                      object\n",
      "Adjusted_net_national_income_per_capita__current_US__    float64\n",
      "Death_rate__crude__per_1_000_people_                     float64\n",
      "GDP__current_US__                                        float64\n",
      "GDP_per_capita__current_US__                             float64\n",
      "Military_expenditure__current_USD_                       float64\n",
      "Population_density__people_per_sq__km_of_land_area_      float64\n",
      "Population__total                                        float64\n",
      "Rural_population                                         float64\n",
      "Urban_population                                         float64\n",
      "Battle_related_deaths__number_of_people_                   int64\n",
      "dtype: object\n"
     ]
    }
   ],
   "source": [
    "print(conflict_test.dtypes)"
   ]
  },
  {
   "cell_type": "code",
   "execution_count": 47,
   "metadata": {},
   "outputs": [
    {
     "name": "stdout",
     "output_type": "stream",
     "text": [
      "Country Name                                                0\n",
      "Year                                                        0\n",
      "Adjusted_net_national_income_per_capita__current_US__    2132\n",
      "Death_rate__crude__per_1_000_people_                      467\n",
      "GDP__current_US__                                        1102\n",
      "GDP_per_capita__current_US__                             1103\n",
      "Military_expenditure__current_USD_                       1987\n",
      "Population_density__people_per_sq__km_of_land_area_       289\n",
      "Population__total                                         102\n",
      "Rural_population                                          146\n",
      "Urban_population                                          146\n",
      "Battle_related_deaths__number_of_people_                    0\n",
      "dtype: int64\n"
     ]
    }
   ],
   "source": [
    "print(conflict_test.isnull().sum())"
   ]
  },
  {
   "cell_type": "markdown",
   "metadata": {},
   "source": [
    "Encoding categorical variables Country Name and Year."
   ]
  },
  {
   "cell_type": "code",
   "execution_count": 48,
   "metadata": {},
   "outputs": [],
   "source": [
    "countryname_enc2 = pd.get_dummies(conflict_test[\"Country Name\"])"
   ]
  },
  {
   "cell_type": "code",
   "execution_count": 49,
   "metadata": {
    "scrolled": true
   },
   "outputs": [
    {
     "name": "stdout",
     "output_type": "stream",
     "text": [
      "<class 'pandas.core.frame.DataFrame'>\n",
      "Int64Index: 4436 entries, 3579 to 12645\n",
      "Columns: 224 entries, Afghanistan to Zimbabwe\n",
      "dtypes: uint8(224)\n",
      "memory usage: 1005.0 KB\n",
      "None\n"
     ]
    }
   ],
   "source": [
    "print(countryname_enc2.info())"
   ]
  },
  {
   "cell_type": "code",
   "execution_count": 50,
   "metadata": {},
   "outputs": [],
   "source": [
    "year_enc2 = pd.get_dummies(conflict_test[\"Year\"])"
   ]
  },
  {
   "cell_type": "code",
   "execution_count": 51,
   "metadata": {
    "scrolled": true
   },
   "outputs": [
    {
     "name": "stdout",
     "output_type": "stream",
     "text": [
      "<class 'pandas.core.frame.DataFrame'>\n",
      "Int64Index: 4436 entries, 3579 to 12645\n",
      "Data columns (total 60 columns):\n",
      "1960    4436 non-null uint8\n",
      "1961    4436 non-null uint8\n",
      "1962    4436 non-null uint8\n",
      "1963    4436 non-null uint8\n",
      "1964    4436 non-null uint8\n",
      "1965    4436 non-null uint8\n",
      "1966    4436 non-null uint8\n",
      "1967    4436 non-null uint8\n",
      "1968    4436 non-null uint8\n",
      "1969    4436 non-null uint8\n",
      "1970    4436 non-null uint8\n",
      "1971    4436 non-null uint8\n",
      "1972    4436 non-null uint8\n",
      "1973    4436 non-null uint8\n",
      "1974    4436 non-null uint8\n",
      "1975    4436 non-null uint8\n",
      "1976    4436 non-null uint8\n",
      "1977    4436 non-null uint8\n",
      "1978    4436 non-null uint8\n",
      "1979    4436 non-null uint8\n",
      "1980    4436 non-null uint8\n",
      "1981    4436 non-null uint8\n",
      "1982    4436 non-null uint8\n",
      "1983    4436 non-null uint8\n",
      "1984    4436 non-null uint8\n",
      "1985    4436 non-null uint8\n",
      "1986    4436 non-null uint8\n",
      "1987    4436 non-null uint8\n",
      "1988    4436 non-null uint8\n",
      "1989    4436 non-null uint8\n",
      "1990    4436 non-null uint8\n",
      "1991    4436 non-null uint8\n",
      "1992    4436 non-null uint8\n",
      "1993    4436 non-null uint8\n",
      "1994    4436 non-null uint8\n",
      "1995    4436 non-null uint8\n",
      "1996    4436 non-null uint8\n",
      "1997    4436 non-null uint8\n",
      "1998    4436 non-null uint8\n",
      "1999    4436 non-null uint8\n",
      "2000    4436 non-null uint8\n",
      "2001    4436 non-null uint8\n",
      "2002    4436 non-null uint8\n",
      "2003    4436 non-null uint8\n",
      "2004    4436 non-null uint8\n",
      "2005    4436 non-null uint8\n",
      "2006    4436 non-null uint8\n",
      "2007    4436 non-null uint8\n",
      "2008    4436 non-null uint8\n",
      "2009    4436 non-null uint8\n",
      "2010    4436 non-null uint8\n",
      "2011    4436 non-null uint8\n",
      "2012    4436 non-null uint8\n",
      "2013    4436 non-null uint8\n",
      "2014    4436 non-null uint8\n",
      "2015    4436 non-null uint8\n",
      "2016    4436 non-null uint8\n",
      "2017    4436 non-null uint8\n",
      "2018    4436 non-null uint8\n",
      "2019    4436 non-null uint8\n",
      "dtypes: uint8(60)\n",
      "memory usage: 294.6 KB\n",
      "None\n"
     ]
    }
   ],
   "source": [
    "print(year_enc2.info())"
   ]
  },
  {
   "cell_type": "markdown",
   "metadata": {},
   "source": [
    "Imputing Mean values for Nulls in continuous variables."
   ]
  },
  {
   "cell_type": "code",
   "execution_count": null,
   "metadata": {
    "scrolled": true
   },
   "outputs": [],
   "source": [
    "#from sklearn.preprocessing import Imputer\n",
    "#imputer = Imputer(strategy=\"mean\")"
   ]
  },
  {
   "cell_type": "code",
   "execution_count": 52,
   "metadata": {},
   "outputs": [],
   "source": [
    "conflict_num2 = conflict_test.drop(\"Country Name\", axis=1)"
   ]
  },
  {
   "cell_type": "code",
   "execution_count": 53,
   "metadata": {},
   "outputs": [],
   "source": [
    "conflict_num2 = conflict_num2.drop(\"Year\", axis=1)"
   ]
  },
  {
   "cell_type": "code",
   "execution_count": 54,
   "metadata": {},
   "outputs": [
    {
     "data": {
      "text/plain": [
       "(4436, 10)"
      ]
     },
     "execution_count": 54,
     "metadata": {},
     "output_type": "execute_result"
    }
   ],
   "source": [
    "conflict_num2.shape"
   ]
  },
  {
   "cell_type": "code",
   "execution_count": 55,
   "metadata": {},
   "outputs": [
    {
     "name": "stdout",
     "output_type": "stream",
     "text": [
      "<class 'pandas.core.frame.DataFrame'>\n",
      "Int64Index: 4436 entries, 3579 to 12645\n",
      "Data columns (total 10 columns):\n",
      "Adjusted_net_national_income_per_capita__current_US__    2304 non-null float64\n",
      "Death_rate__crude__per_1_000_people_                     3969 non-null float64\n",
      "GDP__current_US__                                        3334 non-null float64\n",
      "GDP_per_capita__current_US__                             3333 non-null float64\n",
      "Military_expenditure__current_USD_                       2449 non-null float64\n",
      "Population_density__people_per_sq__km_of_land_area_      4147 non-null float64\n",
      "Population__total                                        4334 non-null float64\n",
      "Rural_population                                         4290 non-null float64\n",
      "Urban_population                                         4290 non-null float64\n",
      "Battle_related_deaths__number_of_people_                 4436 non-null int64\n",
      "dtypes: float64(9), int64(1)\n",
      "memory usage: 381.2 KB\n"
     ]
    }
   ],
   "source": [
    "conflict_num2.info()"
   ]
  },
  {
   "cell_type": "code",
   "execution_count": 56,
   "metadata": {},
   "outputs": [
    {
     "data": {
      "text/plain": [
       "Imputer(axis=0, copy=True, missing_values='NaN', strategy='mean', verbose=0)"
      ]
     },
     "execution_count": 56,
     "metadata": {},
     "output_type": "execute_result"
    }
   ],
   "source": [
    "imputer.fit(conflict_num2)"
   ]
  },
  {
   "cell_type": "code",
   "execution_count": 57,
   "metadata": {
    "scrolled": true
   },
   "outputs": [
    {
     "data": {
      "text/plain": [
       "array([6.33703925e+03, 1.05698178e+01, 3.09211070e+11, 8.34921549e+03,\n",
       "       1.14240510e+10, 3.09596664e+02, 2.91525853e+07, 1.46990724e+07,\n",
       "       1.47438711e+07, 7.80322362e+01])"
      ]
     },
     "execution_count": 57,
     "metadata": {},
     "output_type": "execute_result"
    }
   ],
   "source": [
    "imputer.statistics_"
   ]
  },
  {
   "cell_type": "markdown",
   "metadata": {},
   "source": [
    "If I'm being honest, it's possible that I was supposed to use the train set's statistics to use to impute the test set's NAs."
   ]
  },
  {
   "cell_type": "code",
   "execution_count": 58,
   "metadata": {},
   "outputs": [
    {
     "data": {
      "text/plain": [
       "array([6.41211973e+03, 1.05245555e+01, 3.95197405e+11, 8.50816030e+03,\n",
       "       1.39864673e+10, 3.24387151e+02, 3.20787284e+07, 1.53262563e+07,\n",
       "       1.70185128e+07, 1.18055309e+02])"
      ]
     },
     "execution_count": 58,
     "metadata": {},
     "output_type": "execute_result"
    }
   ],
   "source": [
    "conflict_num.mean().values"
   ]
  },
  {
   "cell_type": "code",
   "execution_count": 59,
   "metadata": {},
   "outputs": [],
   "source": [
    "X2 = imputer.transform(conflict_num2)"
   ]
  },
  {
   "cell_type": "code",
   "execution_count": 60,
   "metadata": {},
   "outputs": [],
   "source": [
    "conflict_test2 = pd.DataFrame(X2, columns=conflict_num2.columns)"
   ]
  },
  {
   "cell_type": "code",
   "execution_count": 61,
   "metadata": {},
   "outputs": [
    {
     "name": "stdout",
     "output_type": "stream",
     "text": [
      "<class 'pandas.core.frame.DataFrame'>\n",
      "RangeIndex: 4436 entries, 0 to 4435\n",
      "Data columns (total 10 columns):\n",
      "Adjusted_net_national_income_per_capita__current_US__    4436 non-null float64\n",
      "Death_rate__crude__per_1_000_people_                     4436 non-null float64\n",
      "GDP__current_US__                                        4436 non-null float64\n",
      "GDP_per_capita__current_US__                             4436 non-null float64\n",
      "Military_expenditure__current_USD_                       4436 non-null float64\n",
      "Population_density__people_per_sq__km_of_land_area_      4436 non-null float64\n",
      "Population__total                                        4436 non-null float64\n",
      "Rural_population                                         4436 non-null float64\n",
      "Urban_population                                         4436 non-null float64\n",
      "Battle_related_deaths__number_of_people_                 4436 non-null float64\n",
      "dtypes: float64(10)\n",
      "memory usage: 346.7 KB\n"
     ]
    }
   ],
   "source": [
    "conflict_test2.info()"
   ]
  },
  {
   "cell_type": "code",
   "execution_count": 62,
   "metadata": {
    "scrolled": true
   },
   "outputs": [
    {
     "name": "stdout",
     "output_type": "stream",
     "text": [
      "Adjusted_net_national_income_per_capita__current_US__    0\n",
      "Death_rate__crude__per_1_000_people_                     0\n",
      "GDP__current_US__                                        0\n",
      "GDP_per_capita__current_US__                             0\n",
      "Military_expenditure__current_USD_                       0\n",
      "Population_density__people_per_sq__km_of_land_area_      0\n",
      "Population__total                                        0\n",
      "Rural_population                                         0\n",
      "Urban_population                                         0\n",
      "Battle_related_deaths__number_of_people_                 0\n",
      "dtype: int64\n"
     ]
    }
   ],
   "source": [
    "print(conflict_test2.isnull().sum())"
   ]
  },
  {
   "cell_type": "markdown",
   "metadata": {},
   "source": [
    "Concatenating the three dataframes: country name, year, conflict_tr"
   ]
  },
  {
   "cell_type": "code",
   "execution_count": 63,
   "metadata": {},
   "outputs": [],
   "source": [
    "countryname_enc2.reset_index(drop=True, inplace=True)\n",
    "year_enc2.reset_index(drop=True, inplace=True)\n",
    "conflict_test2.reset_index(drop=True, inplace=True)"
   ]
  },
  {
   "cell_type": "code",
   "execution_count": 64,
   "metadata": {},
   "outputs": [
    {
     "data": {
      "text/plain": [
       "(4436, 224)"
      ]
     },
     "execution_count": 64,
     "metadata": {},
     "output_type": "execute_result"
    }
   ],
   "source": [
    "countryname_enc2.shape"
   ]
  },
  {
   "cell_type": "code",
   "execution_count": 65,
   "metadata": {},
   "outputs": [
    {
     "data": {
      "text/plain": [
       "(4436, 60)"
      ]
     },
     "execution_count": 65,
     "metadata": {},
     "output_type": "execute_result"
    }
   ],
   "source": [
    "year_enc2.shape"
   ]
  },
  {
   "cell_type": "code",
   "execution_count": 66,
   "metadata": {},
   "outputs": [
    {
     "data": {
      "text/plain": [
       "(4436, 10)"
      ]
     },
     "execution_count": 66,
     "metadata": {},
     "output_type": "execute_result"
    }
   ],
   "source": [
    "conflict_test2.shape"
   ]
  },
  {
   "cell_type": "code",
   "execution_count": 67,
   "metadata": {},
   "outputs": [],
   "source": [
    "finalconflicttest = countryname_enc2.join(year_enc2, on=None, how='left', lsuffix='', rsuffix='', sort=False) "
   ]
  },
  {
   "cell_type": "code",
   "execution_count": 68,
   "metadata": {},
   "outputs": [],
   "source": [
    "conflict_test3 = finalconflicttest.join(conflict_test2, on=None, how='left', lsuffix='', rsuffix='', sort=False)"
   ]
  },
  {
   "cell_type": "code",
   "execution_count": 69,
   "metadata": {},
   "outputs": [
    {
     "data": {
      "text/plain": [
       "(4436, 294)"
      ]
     },
     "execution_count": 69,
     "metadata": {},
     "output_type": "execute_result"
    }
   ],
   "source": [
    "conflict_test3.shape"
   ]
  },
  {
   "cell_type": "code",
   "execution_count": 70,
   "metadata": {},
   "outputs": [
    {
     "name": "stdout",
     "output_type": "stream",
     "text": [
      "Index([                                          'Afghanistan',\n",
      "                                                     'Albania',\n",
      "                                                     'Algeria',\n",
      "                                              'American Samoa',\n",
      "                                                     'Andorra',\n",
      "                                                      'Angola',\n",
      "                                         'Antigua and Barbuda',\n",
      "                                                   'Argentina',\n",
      "                                                     'Armenia',\n",
      "                                                       'Aruba',\n",
      "       ...\n",
      "       'Adjusted_net_national_income_per_capita__current_US__',\n",
      "                        'Death_rate__crude__per_1_000_people_',\n",
      "                                           'GDP__current_US__',\n",
      "                                'GDP_per_capita__current_US__',\n",
      "                          'Military_expenditure__current_USD_',\n",
      "         'Population_density__people_per_sq__km_of_land_area_',\n",
      "                                           'Population__total',\n",
      "                                            'Rural_population',\n",
      "                                            'Urban_population',\n",
      "                    'Battle_related_deaths__number_of_people_'],\n",
      "      dtype='object', length=294)\n"
     ]
    }
   ],
   "source": [
    "print(conflict_test3.columns)"
   ]
  },
  {
   "cell_type": "code",
   "execution_count": 71,
   "metadata": {},
   "outputs": [
    {
     "name": "stdout",
     "output_type": "stream",
     "text": [
      "Afghanistan                                            0\n",
      "Albania                                                0\n",
      "Algeria                                                0\n",
      "American Samoa                                         0\n",
      "Andorra                                                0\n",
      "                                                      ..\n",
      "Population_density__people_per_sq__km_of_land_area_    0\n",
      "Population__total                                      0\n",
      "Rural_population                                       0\n",
      "Urban_population                                       0\n",
      "Battle_related_deaths__number_of_people_               0\n",
      "Length: 294, dtype: int64\n"
     ]
    }
   ],
   "source": [
    "print(conflict_test3.isnull().sum())"
   ]
  },
  {
   "cell_type": "markdown",
   "metadata": {},
   "source": [
    "# Step 5: Visualize the data in your training set."
   ]
  },
  {
   "cell_type": "code",
   "execution_count": 72,
   "metadata": {},
   "outputs": [],
   "source": [
    "from pandas.plotting import scatter_matrix"
   ]
  },
  {
   "cell_type": "code",
   "execution_count": 73,
   "metadata": {
    "scrolled": false
   },
   "outputs": [
    {
     "data": {
      "image/png": "[encoded data removed]",
      "text/plain": [
       "<Figure size 1440x1080 with 1 Axes>"
      ]
     },
     "metadata": {
      "needs_background": "light"
     },
     "output_type": "display_data"
    }
   ],
   "source": [
    "conflict_train3[\"GDP__current_US__\"].hist(bins=50, figsize=(20,15)) \n",
    "plt.show()"
   ]
  },
  {
   "cell_type": "code",
   "execution_count": 74,
   "metadata": {
    "scrolled": true
   },
   "outputs": [
    {
     "data": {
      "text/plain": [
       "array([[<matplotlib.axes._subplots.AxesSubplot object at 0x0000017A4072FD48>,\n",
       "        <matplotlib.axes._subplots.AxesSubplot object at 0x0000017A43022608>,\n",
       "        <matplotlib.axes._subplots.AxesSubplot object at 0x0000017A43059888>,\n",
       "        <matplotlib.axes._subplots.AxesSubplot object at 0x0000017A431D3148>],\n",
       "       [<matplotlib.axes._subplots.AxesSubplot object at 0x0000017A43209D08>,\n",
       "        <matplotlib.axes._subplots.AxesSubplot object at 0x0000017A43242908>,\n",
       "        <matplotlib.axes._subplots.AxesSubplot object at 0x0000017A4327C508>,\n",
       "        <matplotlib.axes._subplots.AxesSubplot object at 0x0000017A432B7148>],\n",
       "       [<matplotlib.axes._subplots.AxesSubplot object at 0x0000017A432BBC08>,\n",
       "        <matplotlib.axes._subplots.AxesSubplot object at 0x0000017A432F88C8>,\n",
       "        <matplotlib.axes._subplots.AxesSubplot object at 0x0000017A43360548>,\n",
       "        <matplotlib.axes._subplots.AxesSubplot object at 0x0000017A433990C8>],\n",
       "       [<matplotlib.axes._subplots.AxesSubplot object at 0x0000017A4364DC88>,\n",
       "        <matplotlib.axes._subplots.AxesSubplot object at 0x0000017A43687908>,\n",
       "        <matplotlib.axes._subplots.AxesSubplot object at 0x0000017A436C1A48>,\n",
       "        <matplotlib.axes._subplots.AxesSubplot object at 0x0000017A436F9B48>]],\n",
       "      dtype=object)"
      ]
     },
     "execution_count": 74,
     "metadata": {},
     "output_type": "execute_result"
    },
    {
     "data": {
      "image/png": "[encoded data removed]",
      "text/plain": [
       "<Figure size 864x576 with 16 Axes>"
      ]
     },
     "metadata": {
      "needs_background": "light"
     },
     "output_type": "display_data"
    }
   ],
   "source": [
    "attributes = [\"Battle_related_deaths__number_of_people_\", \"GDP__current_US__\", \"Military_expenditure__current_USD_\",\"Population__total\"] \n",
    "scatter_matrix(conflict_train3[attributes], figsize=(12, 8))"
   ]
  },
  {
   "cell_type": "code",
   "execution_count": 75,
   "metadata": {},
   "outputs": [
    {
     "data": {
      "text/plain": [
       "array([[<matplotlib.axes._subplots.AxesSubplot object at 0x0000017A42FBA908>,\n",
       "        <matplotlib.axes._subplots.AxesSubplot object at 0x0000017A43871988>,\n",
       "        <matplotlib.axes._subplots.AxesSubplot object at 0x0000017A429EBF88>],\n",
       "       [<matplotlib.axes._subplots.AxesSubplot object at 0x0000017A438B09C8>,\n",
       "        <matplotlib.axes._subplots.AxesSubplot object at 0x0000017A438EC3C8>,\n",
       "        <matplotlib.axes._subplots.AxesSubplot object at 0x0000017A43920D88>],\n",
       "       [<matplotlib.axes._subplots.AxesSubplot object at 0x0000017A4395A9C8>,\n",
       "        <matplotlib.axes._subplots.AxesSubplot object at 0x0000017A43993AC8>,\n",
       "        <matplotlib.axes._subplots.AxesSubplot object at 0x0000017A4399E6C8>]],\n",
       "      dtype=object)"
      ]
     },
     "execution_count": 75,
     "metadata": {},
     "output_type": "execute_result"
    },
    {
     "data": {
      "image/png": "[encoded data removed]",
      "text/plain": [
       "<Figure size 864x576 with 9 Axes>"
      ]
     },
     "metadata": {
      "needs_background": "light"
     },
     "output_type": "display_data"
    }
   ],
   "source": [
    "attributes2 = [\"Battle_related_deaths__number_of_people_\", \"Death_rate__crude__per_1_000_people_\", \"GDP_per_capita__current_US__\"] \n",
    "scatter_matrix(conflict_train3[attributes2], figsize=(12, 8))"
   ]
  },
  {
   "cell_type": "code",
   "execution_count": 76,
   "metadata": {},
   "outputs": [],
   "source": [
    "%matplotlib inline  \n",
    "import matplotlib.pyplot as plt"
   ]
  },
  {
   "cell_type": "code",
   "execution_count": 77,
   "metadata": {},
   "outputs": [
    {
     "data": {
      "image/png": "[encoded data removed]",
      "text/plain": [
       "<Figure size 432x288 with 1 Axes>"
      ]
     },
     "metadata": {
      "needs_background": "light"
     },
     "output_type": "display_data"
    }
   ],
   "source": [
    "conflict_train3.plot(kind=\"scatter\", x=\"Battle_related_deaths__number_of_people_\", y=\"GDP__current_US__\")\n",
    "plt.show()"
   ]
  },
  {
   "cell_type": "markdown",
   "metadata": {},
   "source": [
    "# Step 6: Apply transformations and visualize. "
   ]
  },
  {
   "cell_type": "code",
   "execution_count": 78,
   "metadata": {},
   "outputs": [
    {
     "name": "stdout",
     "output_type": "stream",
     "text": [
      "GDP__current_US__    5.071806e+24\n",
      "dtype: float64\n"
     ]
    }
   ],
   "source": [
    "print(conflict_train3[[\"GDP__current_US__\"]].var())"
   ]
  },
  {
   "cell_type": "code",
   "execution_count": 79,
   "metadata": {},
   "outputs": [],
   "source": [
    "conflict_train3[\"gdp_log\"] = np.log(conflict_train3[\"GDP__current_US__\"])"
   ]
  },
  {
   "cell_type": "code",
   "execution_count": 80,
   "metadata": {},
   "outputs": [
    {
     "name": "stdout",
     "output_type": "stream",
     "text": [
      "Battle_related_deaths__number_of_people_    2.358173e+06\n",
      "dtype: float64\n"
     ]
    }
   ],
   "source": [
    "print(conflict_train3[[\"Battle_related_deaths__number_of_people_\"]].var())"
   ]
  },
  {
   "cell_type": "code",
   "execution_count": 81,
   "metadata": {},
   "outputs": [
    {
     "name": "stderr",
     "output_type": "stream",
     "text": [
      "C:\\Python\\lib\\site-packages\\pandas\\core\\series.py:853: RuntimeWarning: divide by zero encountered in log\n",
      "  result = getattr(ufunc, method)(*inputs, **kwargs)\n"
     ]
    }
   ],
   "source": [
    "conflict_train3[\"brdeaths_log\"] = np.log(conflict_train3[\"Battle_related_deaths__number_of_people_\"])"
   ]
  },
  {
   "cell_type": "code",
   "execution_count": 82,
   "metadata": {},
   "outputs": [
    {
     "data": {
      "image/png": "[encoded data removed]",
      "text/plain": [
       "<Figure size 432x288 with 1 Axes>"
      ]
     },
     "metadata": {
      "needs_background": "light"
     },
     "output_type": "display_data"
    }
   ],
   "source": [
    "conflict_train3.plot(kind=\"scatter\", x=\"brdeaths_log\", y=\"GDP__current_US__\")\n",
    "plt.show()"
   ]
  },
  {
   "cell_type": "code",
   "execution_count": 84,
   "metadata": {
    "scrolled": true
   },
   "outputs": [
    {
     "data": {
      "text/plain": [
       "array([[<matplotlib.axes._subplots.AxesSubplot object at 0x0000017A43DF4188>,\n",
       "        <matplotlib.axes._subplots.AxesSubplot object at 0x0000017A43F13AC8>,\n",
       "        <matplotlib.axes._subplots.AxesSubplot object at 0x0000017A43F46DC8>,\n",
       "        <matplotlib.axes._subplots.AxesSubplot object at 0x0000017A43F82588>],\n",
       "       [<matplotlib.axes._subplots.AxesSubplot object at 0x0000017A43FB8308>,\n",
       "        <matplotlib.axes._subplots.AxesSubplot object at 0x0000017A43FEE088>,\n",
       "        <matplotlib.axes._subplots.AxesSubplot object at 0x0000017A4517EDC8>,\n",
       "        <matplotlib.axes._subplots.AxesSubplot object at 0x0000017A451B5B48>],\n",
       "       [<matplotlib.axes._subplots.AxesSubplot object at 0x0000017A451BC9C8>,\n",
       "        <matplotlib.axes._subplots.AxesSubplot object at 0x0000017A451F4948>,\n",
       "        <matplotlib.axes._subplots.AxesSubplot object at 0x0000017A45259F88>,\n",
       "        <matplotlib.axes._subplots.AxesSubplot object at 0x0000017A43D8EF08>],\n",
       "       [<matplotlib.axes._subplots.AxesSubplot object at 0x0000017A43DC0848>,\n",
       "        <matplotlib.axes._subplots.AxesSubplot object at 0x0000017A43CF2FC8>,\n",
       "        <matplotlib.axes._subplots.AxesSubplot object at 0x0000017A452AB548>,\n",
       "        <matplotlib.axes._subplots.AxesSubplot object at 0x0000017A43D9DE48>]],\n",
       "      dtype=object)"
      ]
     },
     "execution_count": 84,
     "metadata": {},
     "output_type": "execute_result"
    },
    {
     "data": {
      "image/png": "[encoded data removed]",
      "text/plain": [
       "<Figure size 864x576 with 16 Axes>"
      ]
     },
     "metadata": {
      "needs_background": "light"
     },
     "output_type": "display_data"
    }
   ],
   "source": [
    "attributesX = [\"Battle_related_deaths__number_of_people_\", \"gdp_log\", \"Military_expenditure__current_USD_\",             \n",
    "              \"Death_rate__crude__per_1_000_people_\"] \n",
    "scatter_matrix(conflict_train3[attributesX], figsize=(12, 8))"
   ]
  },
  {
   "cell_type": "code",
   "execution_count": 85,
   "metadata": {},
   "outputs": [],
   "source": [
    "corr_matrix = conflict_train3.corr()"
   ]
  },
  {
   "cell_type": "code",
   "execution_count": 86,
   "metadata": {},
   "outputs": [
    {
     "data": {
      "text/plain": [
       "Battle_related_deaths__number_of_people_                 1.000000\n",
       "brdeaths_log                                             0.515903\n",
       "Syrian Arab Republic                                     0.253381\n",
       "Afghanistan                                              0.172926\n",
       "Ethiopia                                                 0.118631\n",
       "                                                           ...   \n",
       "1963                                                    -0.010439\n",
       "1981                                                    -0.010472\n",
       "Population_density__people_per_sq__km_of_land_area_     -0.011285\n",
       "GDP_per_capita__current_US__                            -0.025537\n",
       "Adjusted_net_national_income_per_capita__current_US__   -0.029146\n",
       "Name: Battle_related_deaths__number_of_people_, Length: 296, dtype: float64"
      ]
     },
     "execution_count": 86,
     "metadata": {},
     "output_type": "execute_result"
    }
   ],
   "source": [
    " corr_matrix[\"Battle_related_deaths__number_of_people_\"].sort_values(ascending=False)"
   ]
  },
  {
   "cell_type": "code",
   "execution_count": null,
   "metadata": {},
   "outputs": [],
   "source": [
    "# \"GDP__current_US__\"\n",
    "plt.hist(conflict_train3[\"GDP__current_US__\"].values.reshape(-1, 1))\n",
    "plt.show()"
   ]
  },
  {
   "cell_type": "code",
   "execution_count": null,
   "metadata": {
    "scrolled": true
   },
   "outputs": [],
   "source": [
    "plt.hist(conflict_train3[\"GDP__current_US__\"].values.reshape(-1, 1)**3, bins=10)\n",
    "plt.show()"
   ]
  },
  {
   "cell_type": "code",
   "execution_count": null,
   "metadata": {},
   "outputs": [],
   "source": [
    "# Battle related deaths\n",
    "plt.hist(conflict_train3[\"Battle_related_deaths__number_of_people_\"].values.reshape(-1, 1)**2, bins=10)\n",
    "plt.show()"
   ]
  },
  {
   "cell_type": "code",
   "execution_count": null,
   "metadata": {},
   "outputs": [],
   "source": [
    "# crude death rate\n",
    "plt.hist(conflict_train3[\"Death_rate__crude__per_1_000_people_\"].values.reshape(-1, 1))\n",
    "plt.show()"
   ]
  },
  {
   "cell_type": "code",
   "execution_count": null,
   "metadata": {},
   "outputs": [],
   "source": [
    "plt.hist(conflict_train3[\"Death_rate__crude__per_1_000_people_\"].values.reshape(-1, 1)**2, bins=10)\n",
    "plt.show()"
   ]
  },
  {
   "cell_type": "markdown",
   "metadata": {},
   "source": [
    "# A first attempt at Project 2, not submitting for a grade"
   ]
  },
  {
   "cell_type": "markdown",
   "metadata": {},
   "source": [
    "Step 1 and Step 2 completed in Project 1."
   ]
  },
  {
   "cell_type": "markdown",
   "metadata": {},
   "source": [
    "# Step 3: Select your target attribute."
   ]
  },
  {
   "cell_type": "markdown",
   "metadata": {},
   "source": [
    "I am trying to run models on the continuous dependent variable, Battle related deaths. I can either use the original variable or the logarithmic version of the variable I created in Project 1, Step 6. I've plotted their histograms below. The original variable is neither Gaussian nor uniform but rather left-skewed with a large number of 0s, I will try using the logarithmic Battle related deaths variable for a more normalized distribution. "
   ]
  },
  {
   "cell_type": "code",
   "execution_count": 87,
   "metadata": {},
   "outputs": [
    {
     "data": {
      "image/png": "[encoded data removed]",
      "text/plain": [
       "<Figure size 1440x1080 with 1 Axes>"
      ]
     },
     "metadata": {
      "needs_background": "light"
     },
     "output_type": "display_data"
    }
   ],
   "source": [
    "conflict_train3[\"Battle_related_deaths__number_of_people_\"].hist(bins=50, figsize=(20,15)) \n",
    "plt.show()"
   ]
  },
  {
   "cell_type": "code",
   "execution_count": 90,
   "metadata": {},
   "outputs": [
    {
     "ename": "ValueError",
     "evalue": "supplied range of [-inf, 11.144741690634294] is not finite",
     "output_type": "error",
     "traceback": [
      "\u001b[1;31m---------------------------------------------------------------------------\u001b[0m",
      "\u001b[1;31mValueError\u001b[0m                                Traceback (most recent call last)",
      "\u001b[1;32m<ipython-input-90-59d03a742f39>\u001b[0m in \u001b[0;36m<module>\u001b[1;34m\u001b[0m\n\u001b[1;32m----> 1\u001b[1;33m \u001b[0mconflict_train3\u001b[0m\u001b[1;33m[\u001b[0m\u001b[1;34m\"brdeaths_log\"\u001b[0m\u001b[1;33m]\u001b[0m\u001b[1;33m.\u001b[0m\u001b[0mhist\u001b[0m\u001b[1;33m(\u001b[0m\u001b[0mbins\u001b[0m\u001b[1;33m=\u001b[0m\u001b[1;36m50\u001b[0m\u001b[1;33m,\u001b[0m \u001b[0mfigsize\u001b[0m\u001b[1;33m=\u001b[0m\u001b[1;33m(\u001b[0m\u001b[1;36m20\u001b[0m\u001b[1;33m,\u001b[0m\u001b[1;36m15\u001b[0m\u001b[1;33m)\u001b[0m\u001b[1;33m)\u001b[0m\u001b[1;33m\u001b[0m\u001b[1;33m\u001b[0m\u001b[0m\n\u001b[0m\u001b[0;32m      2\u001b[0m \u001b[0mplt\u001b[0m\u001b[1;33m.\u001b[0m\u001b[0mshow\u001b[0m\u001b[1;33m(\u001b[0m\u001b[1;33m)\u001b[0m\u001b[1;33m\u001b[0m\u001b[1;33m\u001b[0m\u001b[0m\n",
      "\u001b[1;32mC:\\Python\\lib\\site-packages\\pandas\\plotting\\_core.py\u001b[0m in \u001b[0;36mhist_series\u001b[1;34m(self, by, ax, grid, xlabelsize, xrot, ylabelsize, yrot, figsize, bins, **kwds)\u001b[0m\n\u001b[0;32m     83\u001b[0m         \u001b[0mfigsize\u001b[0m\u001b[1;33m=\u001b[0m\u001b[0mfigsize\u001b[0m\u001b[1;33m,\u001b[0m\u001b[1;33m\u001b[0m\u001b[1;33m\u001b[0m\u001b[0m\n\u001b[0;32m     84\u001b[0m         \u001b[0mbins\u001b[0m\u001b[1;33m=\u001b[0m\u001b[0mbins\u001b[0m\u001b[1;33m,\u001b[0m\u001b[1;33m\u001b[0m\u001b[1;33m\u001b[0m\u001b[0m\n\u001b[1;32m---> 85\u001b[1;33m         \u001b[1;33m**\u001b[0m\u001b[0mkwds\u001b[0m\u001b[1;33m\u001b[0m\u001b[1;33m\u001b[0m\u001b[0m\n\u001b[0m\u001b[0;32m     86\u001b[0m     )\n\u001b[0;32m     87\u001b[0m \u001b[1;33m\u001b[0m\u001b[0m\n",
      "\u001b[1;32mC:\\Python\\lib\\site-packages\\pandas\\plotting\\_matplotlib\\hist.py\u001b[0m in \u001b[0;36mhist_series\u001b[1;34m(self, by, ax, grid, xlabelsize, xrot, ylabelsize, yrot, figsize, bins, **kwds)\u001b[0m\n\u001b[0;32m    314\u001b[0m         \u001b[0mvalues\u001b[0m \u001b[1;33m=\u001b[0m \u001b[0mself\u001b[0m\u001b[1;33m.\u001b[0m\u001b[0mdropna\u001b[0m\u001b[1;33m(\u001b[0m\u001b[1;33m)\u001b[0m\u001b[1;33m.\u001b[0m\u001b[0mvalues\u001b[0m\u001b[1;33m\u001b[0m\u001b[1;33m\u001b[0m\u001b[0m\n\u001b[0;32m    315\u001b[0m \u001b[1;33m\u001b[0m\u001b[0m\n\u001b[1;32m--> 316\u001b[1;33m         \u001b[0max\u001b[0m\u001b[1;33m.\u001b[0m\u001b[0mhist\u001b[0m\u001b[1;33m(\u001b[0m\u001b[0mvalues\u001b[0m\u001b[1;33m,\u001b[0m \u001b[0mbins\u001b[0m\u001b[1;33m=\u001b[0m\u001b[0mbins\u001b[0m\u001b[1;33m,\u001b[0m \u001b[1;33m**\u001b[0m\u001b[0mkwds\u001b[0m\u001b[1;33m)\u001b[0m\u001b[1;33m\u001b[0m\u001b[1;33m\u001b[0m\u001b[0m\n\u001b[0m\u001b[0;32m    317\u001b[0m         \u001b[0max\u001b[0m\u001b[1;33m.\u001b[0m\u001b[0mgrid\u001b[0m\u001b[1;33m(\u001b[0m\u001b[0mgrid\u001b[0m\u001b[1;33m)\u001b[0m\u001b[1;33m\u001b[0m\u001b[1;33m\u001b[0m\u001b[0m\n\u001b[0;32m    318\u001b[0m         \u001b[0maxes\u001b[0m \u001b[1;33m=\u001b[0m \u001b[0mnp\u001b[0m\u001b[1;33m.\u001b[0m\u001b[0marray\u001b[0m\u001b[1;33m(\u001b[0m\u001b[1;33m[\u001b[0m\u001b[0max\u001b[0m\u001b[1;33m]\u001b[0m\u001b[1;33m)\u001b[0m\u001b[1;33m\u001b[0m\u001b[1;33m\u001b[0m\u001b[0m\n",
      "\u001b[1;32mC:\\Python\\lib\\site-packages\\matplotlib\\__init__.py\u001b[0m in \u001b[0;36minner\u001b[1;34m(ax, data, *args, **kwargs)\u001b[0m\n\u001b[0;32m   1599\u001b[0m     \u001b[1;32mdef\u001b[0m \u001b[0minner\u001b[0m\u001b[1;33m(\u001b[0m\u001b[0max\u001b[0m\u001b[1;33m,\u001b[0m \u001b[1;33m*\u001b[0m\u001b[0margs\u001b[0m\u001b[1;33m,\u001b[0m \u001b[0mdata\u001b[0m\u001b[1;33m=\u001b[0m\u001b[1;32mNone\u001b[0m\u001b[1;33m,\u001b[0m \u001b[1;33m**\u001b[0m\u001b[0mkwargs\u001b[0m\u001b[1;33m)\u001b[0m\u001b[1;33m:\u001b[0m\u001b[1;33m\u001b[0m\u001b[1;33m\u001b[0m\u001b[0m\n\u001b[0;32m   1600\u001b[0m         \u001b[1;32mif\u001b[0m \u001b[0mdata\u001b[0m \u001b[1;32mis\u001b[0m \u001b[1;32mNone\u001b[0m\u001b[1;33m:\u001b[0m\u001b[1;33m\u001b[0m\u001b[1;33m\u001b[0m\u001b[0m\n\u001b[1;32m-> 1601\u001b[1;33m             \u001b[1;32mreturn\u001b[0m \u001b[0mfunc\u001b[0m\u001b[1;33m(\u001b[0m\u001b[0max\u001b[0m\u001b[1;33m,\u001b[0m \u001b[1;33m*\u001b[0m\u001b[0mmap\u001b[0m\u001b[1;33m(\u001b[0m\u001b[0msanitize_sequence\u001b[0m\u001b[1;33m,\u001b[0m \u001b[0margs\u001b[0m\u001b[1;33m)\u001b[0m\u001b[1;33m,\u001b[0m \u001b[1;33m**\u001b[0m\u001b[0mkwargs\u001b[0m\u001b[1;33m)\u001b[0m\u001b[1;33m\u001b[0m\u001b[1;33m\u001b[0m\u001b[0m\n\u001b[0m\u001b[0;32m   1602\u001b[0m \u001b[1;33m\u001b[0m\u001b[0m\n\u001b[0;32m   1603\u001b[0m         \u001b[0mbound\u001b[0m \u001b[1;33m=\u001b[0m \u001b[0mnew_sig\u001b[0m\u001b[1;33m.\u001b[0m\u001b[0mbind\u001b[0m\u001b[1;33m(\u001b[0m\u001b[0max\u001b[0m\u001b[1;33m,\u001b[0m \u001b[1;33m*\u001b[0m\u001b[0margs\u001b[0m\u001b[1;33m,\u001b[0m \u001b[1;33m**\u001b[0m\u001b[0mkwargs\u001b[0m\u001b[1;33m)\u001b[0m\u001b[1;33m\u001b[0m\u001b[1;33m\u001b[0m\u001b[0m\n",
      "\u001b[1;32mC:\\Python\\lib\\site-packages\\matplotlib\\axes\\_axes.py\u001b[0m in \u001b[0;36mhist\u001b[1;34m(self, x, bins, range, density, weights, cumulative, bottom, histtype, align, orientation, rwidth, log, color, label, stacked, normed, **kwargs)\u001b[0m\n\u001b[0;32m   6765\u001b[0m             \u001b[1;31m# this will automatically overwrite bins,\u001b[0m\u001b[1;33m\u001b[0m\u001b[1;33m\u001b[0m\u001b[1;33m\u001b[0m\u001b[0m\n\u001b[0;32m   6766\u001b[0m             \u001b[1;31m# so that each histogram uses the same bins\u001b[0m\u001b[1;33m\u001b[0m\u001b[1;33m\u001b[0m\u001b[1;33m\u001b[0m\u001b[0m\n\u001b[1;32m-> 6767\u001b[1;33m             \u001b[0mm\u001b[0m\u001b[1;33m,\u001b[0m \u001b[0mbins\u001b[0m \u001b[1;33m=\u001b[0m \u001b[0mnp\u001b[0m\u001b[1;33m.\u001b[0m\u001b[0mhistogram\u001b[0m\u001b[1;33m(\u001b[0m\u001b[0mx\u001b[0m\u001b[1;33m[\u001b[0m\u001b[0mi\u001b[0m\u001b[1;33m]\u001b[0m\u001b[1;33m,\u001b[0m \u001b[0mbins\u001b[0m\u001b[1;33m,\u001b[0m \u001b[0mweights\u001b[0m\u001b[1;33m=\u001b[0m\u001b[0mw\u001b[0m\u001b[1;33m[\u001b[0m\u001b[0mi\u001b[0m\u001b[1;33m]\u001b[0m\u001b[1;33m,\u001b[0m \u001b[1;33m**\u001b[0m\u001b[0mhist_kwargs\u001b[0m\u001b[1;33m)\u001b[0m\u001b[1;33m\u001b[0m\u001b[1;33m\u001b[0m\u001b[0m\n\u001b[0m\u001b[0;32m   6768\u001b[0m             \u001b[0mm\u001b[0m \u001b[1;33m=\u001b[0m \u001b[0mm\u001b[0m\u001b[1;33m.\u001b[0m\u001b[0mastype\u001b[0m\u001b[1;33m(\u001b[0m\u001b[0mfloat\u001b[0m\u001b[1;33m)\u001b[0m  \u001b[1;31m# causes problems later if it's an int\u001b[0m\u001b[1;33m\u001b[0m\u001b[1;33m\u001b[0m\u001b[0m\n\u001b[0;32m   6769\u001b[0m             \u001b[1;32mif\u001b[0m \u001b[0mmlast\u001b[0m \u001b[1;32mis\u001b[0m \u001b[1;32mNone\u001b[0m\u001b[1;33m:\u001b[0m\u001b[1;33m\u001b[0m\u001b[1;33m\u001b[0m\u001b[0m\n",
      "\u001b[1;32mC:\\Python\\lib\\site-packages\\numpy\\lib\\histograms.py\u001b[0m in \u001b[0;36mhistogram\u001b[1;34m(a, bins, range, normed, weights, density)\u001b[0m\n\u001b[0;32m    778\u001b[0m     \u001b[0ma\u001b[0m\u001b[1;33m,\u001b[0m \u001b[0mweights\u001b[0m \u001b[1;33m=\u001b[0m \u001b[0m_ravel_and_check_weights\u001b[0m\u001b[1;33m(\u001b[0m\u001b[0ma\u001b[0m\u001b[1;33m,\u001b[0m \u001b[0mweights\u001b[0m\u001b[1;33m)\u001b[0m\u001b[1;33m\u001b[0m\u001b[1;33m\u001b[0m\u001b[0m\n\u001b[0;32m    779\u001b[0m \u001b[1;33m\u001b[0m\u001b[0m\n\u001b[1;32m--> 780\u001b[1;33m     \u001b[0mbin_edges\u001b[0m\u001b[1;33m,\u001b[0m \u001b[0muniform_bins\u001b[0m \u001b[1;33m=\u001b[0m \u001b[0m_get_bin_edges\u001b[0m\u001b[1;33m(\u001b[0m\u001b[0ma\u001b[0m\u001b[1;33m,\u001b[0m \u001b[0mbins\u001b[0m\u001b[1;33m,\u001b[0m \u001b[0mrange\u001b[0m\u001b[1;33m,\u001b[0m \u001b[0mweights\u001b[0m\u001b[1;33m)\u001b[0m\u001b[1;33m\u001b[0m\u001b[1;33m\u001b[0m\u001b[0m\n\u001b[0m\u001b[0;32m    781\u001b[0m \u001b[1;33m\u001b[0m\u001b[0m\n\u001b[0;32m    782\u001b[0m     \u001b[1;31m# Histogram is an integer or a float array depending on the weights.\u001b[0m\u001b[1;33m\u001b[0m\u001b[1;33m\u001b[0m\u001b[1;33m\u001b[0m\u001b[0m\n",
      "\u001b[1;32mC:\\Python\\lib\\site-packages\\numpy\\lib\\histograms.py\u001b[0m in \u001b[0;36m_get_bin_edges\u001b[1;34m(a, bins, range, weights)\u001b[0m\n\u001b[0;32m    415\u001b[0m             \u001b[1;32mraise\u001b[0m \u001b[0mValueError\u001b[0m\u001b[1;33m(\u001b[0m\u001b[1;34m'`bins` must be positive, when an integer'\u001b[0m\u001b[1;33m)\u001b[0m\u001b[1;33m\u001b[0m\u001b[1;33m\u001b[0m\u001b[0m\n\u001b[0;32m    416\u001b[0m \u001b[1;33m\u001b[0m\u001b[0m\n\u001b[1;32m--> 417\u001b[1;33m         \u001b[0mfirst_edge\u001b[0m\u001b[1;33m,\u001b[0m \u001b[0mlast_edge\u001b[0m \u001b[1;33m=\u001b[0m \u001b[0m_get_outer_edges\u001b[0m\u001b[1;33m(\u001b[0m\u001b[0ma\u001b[0m\u001b[1;33m,\u001b[0m \u001b[0mrange\u001b[0m\u001b[1;33m)\u001b[0m\u001b[1;33m\u001b[0m\u001b[1;33m\u001b[0m\u001b[0m\n\u001b[0m\u001b[0;32m    418\u001b[0m \u001b[1;33m\u001b[0m\u001b[0m\n\u001b[0;32m    419\u001b[0m     \u001b[1;32melif\u001b[0m \u001b[0mnp\u001b[0m\u001b[1;33m.\u001b[0m\u001b[0mndim\u001b[0m\u001b[1;33m(\u001b[0m\u001b[0mbins\u001b[0m\u001b[1;33m)\u001b[0m \u001b[1;33m==\u001b[0m \u001b[1;36m1\u001b[0m\u001b[1;33m:\u001b[0m\u001b[1;33m\u001b[0m\u001b[1;33m\u001b[0m\u001b[0m\n",
      "\u001b[1;32mC:\\Python\\lib\\site-packages\\numpy\\lib\\histograms.py\u001b[0m in \u001b[0;36m_get_outer_edges\u001b[1;34m(a, range)\u001b[0m\n\u001b[0;32m    305\u001b[0m         \u001b[1;32mif\u001b[0m \u001b[1;32mnot\u001b[0m \u001b[1;33m(\u001b[0m\u001b[0mnp\u001b[0m\u001b[1;33m.\u001b[0m\u001b[0misfinite\u001b[0m\u001b[1;33m(\u001b[0m\u001b[0mfirst_edge\u001b[0m\u001b[1;33m)\u001b[0m \u001b[1;32mand\u001b[0m \u001b[0mnp\u001b[0m\u001b[1;33m.\u001b[0m\u001b[0misfinite\u001b[0m\u001b[1;33m(\u001b[0m\u001b[0mlast_edge\u001b[0m\u001b[1;33m)\u001b[0m\u001b[1;33m)\u001b[0m\u001b[1;33m:\u001b[0m\u001b[1;33m\u001b[0m\u001b[1;33m\u001b[0m\u001b[0m\n\u001b[0;32m    306\u001b[0m             raise ValueError(\n\u001b[1;32m--> 307\u001b[1;33m                 \"supplied range of [{}, {}] is not finite\".format(first_edge, last_edge))\n\u001b[0m\u001b[0;32m    308\u001b[0m     \u001b[1;32melif\u001b[0m \u001b[0ma\u001b[0m\u001b[1;33m.\u001b[0m\u001b[0msize\u001b[0m \u001b[1;33m==\u001b[0m \u001b[1;36m0\u001b[0m\u001b[1;33m:\u001b[0m\u001b[1;33m\u001b[0m\u001b[1;33m\u001b[0m\u001b[0m\n\u001b[0;32m    309\u001b[0m         \u001b[1;31m# handle empty arrays. Can't determine range, so use 0-1.\u001b[0m\u001b[1;33m\u001b[0m\u001b[1;33m\u001b[0m\u001b[1;33m\u001b[0m\u001b[0m\n",
      "\u001b[1;31mValueError\u001b[0m: supplied range of [-inf, 11.144741690634294] is not finite"
     ]
    },
    {
     "data": {
      "image/png": "[encoded data removed]",
      "text/plain": [
       "<Figure size 1440x1080 with 1 Axes>"
      ]
     },
     "metadata": {
      "needs_background": "light"
     },
     "output_type": "display_data"
    }
   ],
   "source": [
    "conflict_train3[\"brdeaths_log\"].hist(bins=50, figsize=(20,15)) \n",
    "plt.show()"
   ]
  },
  {
   "cell_type": "markdown",
   "metadata": {},
   "source": [
    "In order to select my target attribute, I need to change my pandas dataframe to a numpy array."
   ]
  },
  {
   "cell_type": "code",
   "execution_count": 91,
   "metadata": {},
   "outputs": [],
   "source": [
    "conflicttrainnp = conflict_train3.to_numpy()"
   ]
  },
  {
   "cell_type": "code",
   "execution_count": 92,
   "metadata": {},
   "outputs": [
    {
     "data": {
      "text/plain": [
       "(9004, 296)"
      ]
     },
     "execution_count": 92,
     "metadata": {},
     "output_type": "execute_result"
    }
   ],
   "source": [
    "conflict_train3.shape"
   ]
  },
  {
   "cell_type": "code",
   "execution_count": 93,
   "metadata": {},
   "outputs": [
    {
     "data": {
      "text/html": [
       "<div>\n",
       "<style scoped>\n",
       "    .dataframe tbody tr th:only-of-type {\n",
       "        vertical-align: middle;\n",
       "    }\n",
       "\n",
       "    .dataframe tbody tr th {\n",
       "        vertical-align: top;\n",
       "    }\n",
       "\n",
       "    .dataframe thead th {\n",
       "        text-align: right;\n",
       "    }\n",
       "</style>\n",
       "<table border=\"1\" class=\"dataframe\">\n",
       "  <thead>\n",
       "    <tr style=\"text-align: right;\">\n",
       "      <th></th>\n",
       "      <th>Afghanistan</th>\n",
       "      <th>Albania</th>\n",
       "      <th>Algeria</th>\n",
       "      <th>American Samoa</th>\n",
       "      <th>Andorra</th>\n",
       "      <th>Angola</th>\n",
       "      <th>Antigua and Barbuda</th>\n",
       "      <th>Argentina</th>\n",
       "      <th>Armenia</th>\n",
       "      <th>Aruba</th>\n",
       "      <th>...</th>\n",
       "      <th>GDP__current_US__</th>\n",
       "      <th>GDP_per_capita__current_US__</th>\n",
       "      <th>Military_expenditure__current_USD_</th>\n",
       "      <th>Population_density__people_per_sq__km_of_land_area_</th>\n",
       "      <th>Population__total</th>\n",
       "      <th>Rural_population</th>\n",
       "      <th>Urban_population</th>\n",
       "      <th>Battle_related_deaths__number_of_people_</th>\n",
       "      <th>gdp_log</th>\n",
       "      <th>brdeaths_log</th>\n",
       "    </tr>\n",
       "  </thead>\n",
       "  <tbody>\n",
       "    <tr>\n",
       "      <td>0</td>\n",
       "      <td>0</td>\n",
       "      <td>0</td>\n",
       "      <td>0</td>\n",
       "      <td>0</td>\n",
       "      <td>0</td>\n",
       "      <td>0</td>\n",
       "      <td>0</td>\n",
       "      <td>0</td>\n",
       "      <td>0</td>\n",
       "      <td>0</td>\n",
       "      <td>...</td>\n",
       "      <td>3.951974e+11</td>\n",
       "      <td>8508.160296</td>\n",
       "      <td>1.398647e+10</td>\n",
       "      <td>50.090763</td>\n",
       "      <td>3139689.0</td>\n",
       "      <td>1583816.0</td>\n",
       "      <td>1555873.0</td>\n",
       "      <td>0.0</td>\n",
       "      <td>26.702651</td>\n",
       "      <td>-inf</td>\n",
       "    </tr>\n",
       "    <tr>\n",
       "      <td>1</td>\n",
       "      <td>0</td>\n",
       "      <td>0</td>\n",
       "      <td>0</td>\n",
       "      <td>0</td>\n",
       "      <td>0</td>\n",
       "      <td>0</td>\n",
       "      <td>0</td>\n",
       "      <td>0</td>\n",
       "      <td>0</td>\n",
       "      <td>0</td>\n",
       "      <td>...</td>\n",
       "      <td>4.274533e+10</td>\n",
       "      <td>12230.073450</td>\n",
       "      <td>9.890338e+08</td>\n",
       "      <td>13.273708</td>\n",
       "      <td>3495100.0</td>\n",
       "      <td>526013.0</td>\n",
       "      <td>2969087.0</td>\n",
       "      <td>0.0</td>\n",
       "      <td>24.478526</td>\n",
       "      <td>-inf</td>\n",
       "    </tr>\n",
       "    <tr>\n",
       "      <td>2</td>\n",
       "      <td>0</td>\n",
       "      <td>0</td>\n",
       "      <td>0</td>\n",
       "      <td>0</td>\n",
       "      <td>0</td>\n",
       "      <td>0</td>\n",
       "      <td>0</td>\n",
       "      <td>0</td>\n",
       "      <td>0</td>\n",
       "      <td>0</td>\n",
       "      <td>...</td>\n",
       "      <td>1.370000e+11</td>\n",
       "      <td>205.693386</td>\n",
       "      <td>3.975819e+09</td>\n",
       "      <td>224.506273</td>\n",
       "      <td>667499806.0</td>\n",
       "      <td>518120024.0</td>\n",
       "      <td>149379782.0</td>\n",
       "      <td>0.0</td>\n",
       "      <td>25.643247</td>\n",
       "      <td>-inf</td>\n",
       "    </tr>\n",
       "    <tr>\n",
       "      <td>3</td>\n",
       "      <td>0</td>\n",
       "      <td>0</td>\n",
       "      <td>0</td>\n",
       "      <td>0</td>\n",
       "      <td>0</td>\n",
       "      <td>0</td>\n",
       "      <td>0</td>\n",
       "      <td>0</td>\n",
       "      <td>0</td>\n",
       "      <td>0</td>\n",
       "      <td>...</td>\n",
       "      <td>3.068911e+08</td>\n",
       "      <td>908.096190</td>\n",
       "      <td>1.398647e+10</td>\n",
       "      <td>83.858561</td>\n",
       "      <td>337950.0</td>\n",
       "      <td>188846.0</td>\n",
       "      <td>149104.0</td>\n",
       "      <td>0.0</td>\n",
       "      <td>19.542004</td>\n",
       "      <td>-inf</td>\n",
       "    </tr>\n",
       "    <tr>\n",
       "      <td>4</td>\n",
       "      <td>0</td>\n",
       "      <td>0</td>\n",
       "      <td>0</td>\n",
       "      <td>0</td>\n",
       "      <td>0</td>\n",
       "      <td>0</td>\n",
       "      <td>0</td>\n",
       "      <td>0</td>\n",
       "      <td>0</td>\n",
       "      <td>0</td>\n",
       "      <td>...</td>\n",
       "      <td>3.115284e+10</td>\n",
       "      <td>3390.545484</td>\n",
       "      <td>1.559887e+09</td>\n",
       "      <td>71.281226</td>\n",
       "      <td>9188150.0</td>\n",
       "      <td>2992672.0</td>\n",
       "      <td>6195478.0</td>\n",
       "      <td>0.0</td>\n",
       "      <td>24.162171</td>\n",
       "      <td>-inf</td>\n",
       "    </tr>\n",
       "  </tbody>\n",
       "</table>\n",
       "<p>5 rows × 296 columns</p>\n",
       "</div>"
      ],
      "text/plain": [
       "   Afghanistan  Albania  Algeria  American Samoa  Andorra  Angola  \\\n",
       "0            0        0        0               0        0       0   \n",
       "1            0        0        0               0        0       0   \n",
       "2            0        0        0               0        0       0   \n",
       "3            0        0        0               0        0       0   \n",
       "4            0        0        0               0        0       0   \n",
       "\n",
       "   Antigua and Barbuda  Argentina  Armenia  Aruba  ...  GDP__current_US__  \\\n",
       "0                    0          0        0      0  ...       3.951974e+11   \n",
       "1                    0          0        0      0  ...       4.274533e+10   \n",
       "2                    0          0        0      0  ...       1.370000e+11   \n",
       "3                    0          0        0      0  ...       3.068911e+08   \n",
       "4                    0          0        0      0  ...       3.115284e+10   \n",
       "\n",
       "   GDP_per_capita__current_US__  Military_expenditure__current_USD_  \\\n",
       "0                   8508.160296                        1.398647e+10   \n",
       "1                  12230.073450                        9.890338e+08   \n",
       "2                    205.693386                        3.975819e+09   \n",
       "3                    908.096190                        1.398647e+10   \n",
       "4                   3390.545484                        1.559887e+09   \n",
       "\n",
       "   Population_density__people_per_sq__km_of_land_area_  Population__total  \\\n",
       "0                                          50.090763            3139689.0   \n",
       "1                                          13.273708            3495100.0   \n",
       "2                                         224.506273          667499806.0   \n",
       "3                                          83.858561             337950.0   \n",
       "4                                          71.281226            9188150.0   \n",
       "\n",
       "   Rural_population  Urban_population  \\\n",
       "0         1583816.0         1555873.0   \n",
       "1          526013.0         2969087.0   \n",
       "2       518120024.0       149379782.0   \n",
       "3          188846.0          149104.0   \n",
       "4         2992672.0         6195478.0   \n",
       "\n",
       "   Battle_related_deaths__number_of_people_    gdp_log  brdeaths_log  \n",
       "0                                       0.0  26.702651          -inf  \n",
       "1                                       0.0  24.478526          -inf  \n",
       "2                                       0.0  25.643247          -inf  \n",
       "3                                       0.0  19.542004          -inf  \n",
       "4                                       0.0  24.162171          -inf  \n",
       "\n",
       "[5 rows x 296 columns]"
      ]
     },
     "execution_count": 93,
     "metadata": {},
     "output_type": "execute_result"
    }
   ],
   "source": [
    "conflict_train3.head()"
   ]
  },
  {
   "cell_type": "code",
   "execution_count": 94,
   "metadata": {},
   "outputs": [],
   "source": [
    "X_train = conflicttrainnp[:, 0:294]"
   ]
  },
  {
   "cell_type": "code",
   "execution_count": 113,
   "metadata": {},
   "outputs": [
    {
     "data": {
      "text/plain": [
       "(9004, 294)"
      ]
     },
     "execution_count": 113,
     "metadata": {},
     "output_type": "execute_result"
    }
   ],
   "source": [
    "X_train.shape"
   ]
  },
  {
   "cell_type": "code",
   "execution_count": 95,
   "metadata": {},
   "outputs": [],
   "source": [
    "y_train = conflicttrainnp[:, 294]"
   ]
  },
  {
   "cell_type": "code",
   "execution_count": 114,
   "metadata": {},
   "outputs": [
    {
     "data": {
      "text/plain": [
       "(9004,)"
      ]
     },
     "execution_count": 114,
     "metadata": {},
     "output_type": "execute_result"
    }
   ],
   "source": [
    "y_train.shape"
   ]
  },
  {
   "cell_type": "code",
   "execution_count": 96,
   "metadata": {},
   "outputs": [],
   "source": [
    "conflicttestnp = conflict_test3.to_numpy()"
   ]
  },
  {
   "cell_type": "code",
   "execution_count": 134,
   "metadata": {},
   "outputs": [],
   "source": [
    "X_test = conflicttestnp[:, 0:294]"
   ]
  },
  {
   "cell_type": "code",
   "execution_count": 135,
   "metadata": {},
   "outputs": [
    {
     "data": {
      "text/plain": [
       "(4436, 294)"
      ]
     },
     "execution_count": 135,
     "metadata": {},
     "output_type": "execute_result"
    }
   ],
   "source": [
    "X_test.shape"
   ]
  },
  {
   "cell_type": "code",
   "execution_count": 142,
   "metadata": {},
   "outputs": [],
   "source": [
    "y_test = conflicttestnp[:, 293]"
   ]
  },
  {
   "cell_type": "code",
   "execution_count": 143,
   "metadata": {},
   "outputs": [
    {
     "data": {
      "text/plain": [
       "(4436,)"
      ]
     },
     "execution_count": 143,
     "metadata": {},
     "output_type": "execute_result"
    }
   ],
   "source": [
    "y_test.shape"
   ]
  },
  {
   "cell_type": "markdown",
   "metadata": {},
   "source": [
    "# Step 4a: Linear Regression"
   ]
  },
  {
   "cell_type": "code",
   "execution_count": 154,
   "metadata": {},
   "outputs": [],
   "source": [
    "from sklearn.linear_model import LinearRegression"
   ]
  },
  {
   "cell_type": "code",
   "execution_count": 155,
   "metadata": {},
   "outputs": [],
   "source": [
    "lr = LinearRegression().fit(X_train, y_train)"
   ]
  },
  {
   "cell_type": "code",
   "execution_count": 145,
   "metadata": {
    "scrolled": true
   },
   "outputs": [
    {
     "name": "stdout",
     "output_type": "stream",
     "text": [
      "lr.coef_: [-6.99602772e-01 -1.04896669e+00 -8.03634091e-01  1.38061430e-01\n",
      " -3.28567933e+00  1.56587204e-01 -3.03792070e+00 -1.53041948e-01\n",
      " -6.07583926e-01 -1.64519371e+00 -5.19980481e-01 -1.07004682e+00\n",
      "  3.77389296e-02 -4.13795645e+00 -1.61973040e+00 -5.59428357e-01\n",
      " -2.27619211e+00  5.08567910e-01 -6.63682625e-01 -5.23462188e+00\n",
      " -2.94991821e+00 -3.99328113e+00 -1.67512293e+00 -2.06815717e+00\n",
      "  7.22960880e-02 -3.92321661e+00  5.91954891e-02  1.52249713e+00\n",
      " -3.40555894e+00  2.37976970e-02 -2.64916288e+00 -3.71556882e+00\n",
      " -2.97817060e+00 -1.08734353e+00 -1.47070498e+00 -2.30545304e-01\n",
      " -1.43230547e+00  4.03543245e-01 -3.48771471e+00  1.25717455e+00\n",
      " -2.86859493e+00  7.47181610e-01 -1.11227173e+00 -1.43508235e+00\n",
      " -5.80832349e-01 -2.03621244e+00 -1.45841134e+00 -2.99457602e+00\n",
      " -2.57703897e+00 -1.71248638e+00  5.28191995e-01 -2.71144347e-01\n",
      "  1.33732252e+00 -2.02917809e+00  7.64123589e-01 -1.25248810e+00\n",
      " -1.89866471e+00 -3.54208652e+00 -2.09616244e+00 -1.81521476e+00\n",
      " -3.18112652e-01 -2.05024088e+00 -3.47773732e+00  6.51909423e-01\n",
      " -1.00415056e-01 -4.03199686e+00 -4.30447288e-01 -5.68000942e-02\n",
      " -5.90205155e-01 -4.25407507e+00 -1.48323863e+00  8.11338804e-01\n",
      " -2.11274243e+00 -2.75117798e+00 -4.20433118e+00  1.37777828e-02\n",
      "  5.77133704e-01 -2.17239907e+00  1.89485387e+00 -8.66014257e-01\n",
      " -3.73735829e+00 -3.01479498e+00  2.16339509e-01 -2.06322253e+00\n",
      " -2.79547951e-01 -3.69167368e+00 -4.49516320e+00 -2.77595145e+00\n",
      " -1.11295674e+00 -2.61151954e+00 -3.22401237e-01  5.44679694e-01\n",
      " -4.01337691e+00 -1.59107614e-01  1.89590053e-01 -2.20317178e-01\n",
      " -1.16974245e+00 -1.90552772e+00 -3.88137840e-01 -1.46579191e+00\n",
      "  4.08563204e-01 -2.96692367e+00 -7.12679194e-01 -2.53316389e+00\n",
      "  4.59661335e-01 -1.88345463e+00 -4.91821049e+00  1.32200228e+00\n",
      " -2.34161575e-01 -8.32193884e-01 -2.40706787e+00 -7.56648615e-01\n",
      " -9.02866584e-01  1.00421383e-01 -1.76766564e-01 -4.36134863e+00\n",
      " -4.56814806e-01  6.43706617e-02 -3.70036838e+00  3.22643886e-01\n",
      " -4.57696700e+00  7.27705403e-01 -2.56295083e+00 -2.90017809e+00\n",
      " -1.29194812e+00 -1.95087645e+00 -1.74248117e+00 -2.58222414e+00\n",
      " -3.34187507e+00 -3.87952426e+00 -1.82653396e+00  1.46021759e-01\n",
      " -2.57739646e+00 -3.64187074e-01 -1.79297951e+00 -1.12524380e+00\n",
      " -3.04607695e-01 -1.14527856e+00  8.87556971e-01  8.13959228e-01\n",
      " -7.09384233e-01 -3.22378650e-01 -2.66279724e+00 -6.01432794e-01\n",
      " -2.02836629e+00 -1.62943735e+00 -3.12715771e+00 -3.02253882e+00\n",
      "  5.14931316e-02  3.86171794e+00 -6.81160887e-01 -5.36518328e-02\n",
      " -1.98354234e+00 -2.30871432e+00  6.35664828e-01 -1.30857339e+00\n",
      "  3.98278920e-02 -6.45898706e-01 -2.69516128e+00 -2.70870386e+00\n",
      " -2.59625973e+00 -1.02235394e+00 -8.59943328e-01  8.37007243e-01\n",
      " -1.03128274e+00 -8.74553619e-01 -2.55725849e+00  4.96601424e-01\n",
      "  1.27304725e+00 -3.26632865e+00 -2.04316603e+00 -4.71886619e-01\n",
      " -8.51149887e-01  5.74585332e-01 -2.05173762e+00  6.80351916e-01\n",
      " -6.05782909e+00 -3.01981854e+00 -1.79223847e+00  1.49533634e+00\n",
      "  2.22941864e-01  9.49941590e-02 -4.29013718e+00 -1.10207924e+00\n",
      "  4.07408229e-02  1.83879785e+00 -1.03539382e-01 -2.25238748e+00\n",
      " -5.90326613e+00 -2.40602212e+00  4.23765199e-01 -6.12495652e+00\n",
      " -2.33775548e+00 -4.11788533e+00 -8.33173661e-01 -1.74735213e+00\n",
      " -1.47168041e+00 -5.48504822e-01  3.70561359e-01 -3.29058644e-01\n",
      "  4.85503388e-01 -3.48402949e+00 -4.14081243e+00 -2.73133371e+00\n",
      " -1.37753894e+00  5.03717832e-01 -4.85096580e-01 -4.05197386e-01\n",
      " -2.78426141e+00 -2.03382097e+00  8.00284000e-01 -6.94605523e-01\n",
      "  5.92718562e-01  4.69967334e+00 -2.03183538e+00  2.70161527e-01\n",
      " -3.00798651e+00 -6.25806205e-01  3.27785368e-01  6.61335442e-03\n",
      "  1.28734980e-02  8.93377232e-01 -2.25273175e+00 -2.31536352e+00\n",
      "  4.48370836e-01  8.78360534e-01  2.43994573e-01 -7.09346445e-01\n",
      "  4.04365853e-01  3.63633505e-01  2.62306107e-01  5.08508605e-01\n",
      "  2.85747331e-03  1.26742613e-01  1.41739220e-01  6.31016611e-01\n",
      "  1.51025487e-01  4.62253148e-01  5.45561306e-01  4.86011229e-01\n",
      "  9.53297071e-01 -8.86658475e-02  1.94459431e-01  4.52100178e-01\n",
      "  7.16073028e-01 -6.33367654e-02  4.58742005e-01  2.35520550e-01\n",
      "  3.43231736e-01 -1.74292003e-01  2.64077548e-01 -5.85439988e-01\n",
      " -6.12085554e-02  1.91361861e-01 -6.20465971e-02  5.82291835e-02\n",
      "  7.22069515e-02 -2.47383750e-01 -3.80043738e-01 -1.27537576e-01\n",
      " -4.30918163e-01 -2.63054403e-01 -4.41236624e-01 -4.45231965e-01\n",
      " -9.65497142e-01 -4.47191853e-01 -6.40060926e-01 -3.52890271e-01\n",
      " -6.26227075e-01 -5.28458755e-01 -6.51245104e-01 -2.55558634e-01\n",
      " -1.02890643e+00 -5.01989973e-01 -5.04203336e-01 -4.66840555e-02\n",
      " -2.00608614e-02 -1.03431501e-01 -4.86735006e-01 -2.13756664e-01\n",
      " -6.33928452e-01 -1.44496487e-01 -6.63813667e-01  3.29863512e+00\n",
      "  6.07478482e-05 -6.26061517e-02  7.99582622e-13  2.72227943e-05\n",
      " -3.20617977e-11 -1.55963919e-04 -2.67719535e-08  2.76193055e-08\n",
      "  3.44508753e-08  4.19994459e-05]\n",
      "lr.intercept_: 25.304181260024468\n"
     ]
    }
   ],
   "source": [
    "print(\"lr.coef_: {}\".format(lr.coef_)) \n",
    "print(\"lr.intercept_: {}\".format(lr.intercept_))"
   ]
  },
  {
   "cell_type": "markdown",
   "metadata": {},
   "source": [
    "# Step 5a: Linear Regression Tuning Parameters"
   ]
  },
  {
   "cell_type": "code",
   "execution_count": 159,
   "metadata": {},
   "outputs": [],
   "source": [
    "y_pred = lr.predict(X_test)"
   ]
  },
  {
   "cell_type": "code",
   "execution_count": 147,
   "metadata": {},
   "outputs": [
    {
     "data": {
      "text/plain": [
       "-0.0033826186125955893"
      ]
     },
     "execution_count": 147,
     "metadata": {},
     "output_type": "execute_result"
    }
   ],
   "source": [
    "lr.score(X_test, y_test)"
   ]
  },
  {
   "cell_type": "code",
   "execution_count": 148,
   "metadata": {
    "scrolled": false
   },
   "outputs": [
    {
     "name": "stdout",
     "output_type": "stream",
     "text": [
      "Training set score: 0.60\n",
      "Test set score: -0.00\n"
     ]
    }
   ],
   "source": [
    "print(\"Training set score: {:.3f}\".format(lr.score(X_train, y_train)))\n",
    "print(\"Test set score: {:.3f}\".format(lr.score(X_test, y_test)))"
   ]
  },
  {
   "cell_type": "markdown",
   "metadata": {},
   "source": [
    "I am laughing! I can't tell if I identified the target incorrectly, if I ran the regression incorrectly, or if the test really just does that poorly."
   ]
  },
  {
   "cell_type": "code",
   "execution_count": 157,
   "metadata": {},
   "outputs": [],
   "source": [
    "from sklearn import metrics"
   ]
  },
  {
   "cell_type": "code",
   "execution_count": 160,
   "metadata": {
    "scrolled": true
   },
   "outputs": [
    {
     "name": "stdout",
     "output_type": "stream",
     "text": [
      "Mean Absolute Error: 98.85008617095971\n",
      "Mean Squared Error: 857157.5891869904\n",
      "Root Mean Squared Error: 925.8280559515306\n"
     ]
    }
   ],
   "source": [
    "print('Mean Absolute Error:', metrics.mean_absolute_error(y_test, y_pred))  \n",
    "print('Mean Squared Error:', metrics.mean_squared_error(y_test, y_pred))  \n",
    "print('Root Mean Squared Error:', np.sqrt(metrics.mean_squared_error(y_test, y_pred)))"
   ]
  },
  {
   "cell_type": "markdown",
   "metadata": {},
   "source": [
    "INTERPRET THESE RESULTS"
   ]
  },
  {
   "cell_type": "markdown",
   "metadata": {},
   "source": [
    "Because linear regression has the tendency to overfit to complex datasets (high dimensional aka having many features), can add regularization by doing a ridge regression"
   ]
  },
  {
   "cell_type": "code",
   "execution_count": 161,
   "metadata": {},
   "outputs": [],
   "source": [
    "from sklearn.linear_model import Ridge"
   ]
  },
  {
   "cell_type": "code",
   "execution_count": 162,
   "metadata": {},
   "outputs": [
    {
     "name": "stderr",
     "output_type": "stream",
     "text": [
      "C:\\Python\\lib\\site-packages\\sklearn\\linear_model\\ridge.py:147: LinAlgWarning: Ill-conditioned matrix (rcond=1.99434e-29): result may not be accurate.\n",
      "  overwrite_a=True).T\n"
     ]
    }
   ],
   "source": [
    "ridge = Ridge().fit(X_train, y_train) "
   ]
  },
  {
   "cell_type": "code",
   "execution_count": 164,
   "metadata": {},
   "outputs": [
    {
     "name": "stdout",
     "output_type": "stream",
     "text": [
      "Training set score: 0.62\n",
      "Test set score: -0.00\n"
     ]
    }
   ],
   "source": [
    "print(\"Training set score: {:.2f}\".format(ridge.score(X_train, y_train))) \n",
    "print(\"Test set score: {:.2f}\".format(ridge.score(X_test, y_test)))"
   ]
  },
  {
   "cell_type": "markdown",
   "metadata": {},
   "source": [
    "Experimenting with alpha - high alpha forces coefficients towards 0 and increases regularization. "
   ]
  },
  {
   "cell_type": "code",
   "execution_count": 165,
   "metadata": {},
   "outputs": [
    {
     "name": "stderr",
     "output_type": "stream",
     "text": [
      "C:\\Python\\lib\\site-packages\\sklearn\\linear_model\\ridge.py:147: LinAlgWarning: Ill-conditioned matrix (rcond=1.78711e-28): result may not be accurate.\n",
      "  overwrite_a=True).T\n"
     ]
    }
   ],
   "source": [
    "ridge10 = Ridge(alpha=10).fit(X_train, y_train) "
   ]
  },
  {
   "cell_type": "code",
   "execution_count": 166,
   "metadata": {},
   "outputs": [
    {
     "name": "stdout",
     "output_type": "stream",
     "text": [
      "Training set score: 0.60\n",
      "Test set score: -0.00\n"
     ]
    }
   ],
   "source": [
    "print(\"Training set score: {:.2f}\".format(ridge10.score(X_train, y_train))) \n",
    "print(\"Test set score: {:.2f}\".format(ridge10.score(X_test, y_test)))"
   ]
  },
  {
   "cell_type": "markdown",
   "metadata": {},
   "source": [
    "Almost no regularization with such a low alpha, should be very similar to the regular linear regression in 4a"
   ]
  },
  {
   "cell_type": "code",
   "execution_count": 167,
   "metadata": {},
   "outputs": [
    {
     "name": "stderr",
     "output_type": "stream",
     "text": [
      "C:\\Python\\lib\\site-packages\\sklearn\\linear_model\\ridge.py:147: LinAlgWarning: Ill-conditioned matrix (rcond=2.12053e-30): result may not be accurate.\n",
      "  overwrite_a=True).T\n"
     ]
    }
   ],
   "source": [
    "ridge01 = Ridge(alpha=0.1).fit(X_train, y_train) "
   ]
  },
  {
   "cell_type": "code",
   "execution_count": 168,
   "metadata": {},
   "outputs": [
    {
     "name": "stdout",
     "output_type": "stream",
     "text": [
      "Training set score: 0.62\n",
      "Test set score: -0.00\n"
     ]
    }
   ],
   "source": [
    "print(\"Training set score: {:.2f}\".format(ridge01.score(X_train, y_train))) \n",
    "print(\"Test set score: {:.2f}\".format(ridge01.score(X_test, y_test)))"
   ]
  },
  {
   "cell_type": "markdown",
   "metadata": {},
   "source": [
    "Lasso attempt! Seeing which features are deemed most important and exploring L1 regularization/error"
   ]
  },
  {
   "cell_type": "code",
   "execution_count": 169,
   "metadata": {},
   "outputs": [
    {
     "name": "stdout",
     "output_type": "stream",
     "text": [
      "Training set score: 0.23\n",
      "Test set score: -0.00\n",
      "Number of features used: 9\n"
     ]
    },
    {
     "name": "stderr",
     "output_type": "stream",
     "text": [
      "C:\\Python\\lib\\site-packages\\sklearn\\linear_model\\coordinate_descent.py:475: ConvergenceWarning: Objective did not converge. You might want to increase the number of iterations. Duality gap: 27375.660805594325, tolerance: 7.11804789055735\n",
      "  positive)\n"
     ]
    }
   ],
   "source": [
    "from sklearn.linear_model import Lasso\n",
    "\n",
    "lasso = Lasso().fit(X_train, y_train)\n",
    "print(\"Training set score: {:.2f}\".format(lasso.score(X_train, y_train)))\n",
    "print(\"Test set score: {:.2f}\".format(lasso.score(X_test, y_test)))\n",
    "print(\"Number of features used:\", np.sum(lasso.coef_ != 0))"
   ]
  },
  {
   "cell_type": "code",
   "execution_count": 170,
   "metadata": {},
   "outputs": [
    {
     "name": "stdout",
     "output_type": "stream",
     "text": [
      "Training set score: 0.34\n",
      "Test set score: -0.00\n",
      "Number of features used: 48\n"
     ]
    }
   ],
   "source": [
    "# we increase the default setting of \"max_iter\",\n",
    "# otherwise the model would warn us that we should increase max_iter.\n",
    "lasso001 = Lasso(alpha=0.01, max_iter=100000).fit(X_train, y_train)\n",
    "print(\"Training set score: {:.2f}\".format(lasso001.score(X_train, y_train)))\n",
    "print(\"Test set score: {:.2f}\".format(lasso001.score(X_test, y_test)))\n",
    "print(\"Number of features used:\", np.sum(lasso001.coef_ != 0))"
   ]
  },
  {
   "cell_type": "code",
   "execution_count": 171,
   "metadata": {},
   "outputs": [
    {
     "name": "stdout",
     "output_type": "stream",
     "text": [
      "Training set score: 0.62\n",
      "Test set score: -0.00\n",
      "Number of features used: 292\n"
     ]
    },
    {
     "name": "stderr",
     "output_type": "stream",
     "text": [
      "C:\\Python\\lib\\site-packages\\sklearn\\linear_model\\coordinate_descent.py:475: ConvergenceWarning: Objective did not converge. You might want to increase the number of iterations. Duality gap: 13856.608035360909, tolerance: 7.11804789055735\n",
      "  positive)\n"
     ]
    }
   ],
   "source": [
    "lasso00001 = Lasso(alpha=0.0001, max_iter=100000).fit(X_train, y_train)\n",
    "print(\"Training set score: {:.2f}\".format(lasso00001.score(X_train, y_train)))\n",
    "print(\"Test set score: {:.2f}\".format(lasso00001.score(X_test, y_test)))\n",
    "print(\"Number of features used:\", np.sum(lasso00001.coef_ != 0))"
   ]
  },
  {
   "cell_type": "markdown",
   "metadata": {},
   "source": [
    "# Step 4b: Decision Tree"
   ]
  },
  {
   "cell_type": "code",
   "execution_count": null,
   "metadata": {},
   "outputs": [],
   "source": [
    "from sklearn.tree import DecisionTreeRegressor"
   ]
  },
  {
   "cell_type": "code",
   "execution_count": null,
   "metadata": {},
   "outputs": [],
   "source": [
    "tree = DecisionTreeRegressor(max_depth=3).fit(Xreg_train, yreg_train)"
   ]
  },
  {
   "cell_type": "markdown",
   "metadata": {},
   "source": [
    "# Step 5b: Decision Tree Tuning Parameters and Forest Exploration!"
   ]
  },
  {
   "cell_type": "code",
   "execution_count": null,
   "metadata": {},
   "outputs": [],
   "source": [
    "print(\"Decision Tree R^2: {:.2f}\".format(tree.score(Xreg_test, yreg_test)))"
   ]
  },
  {
   "cell_type": "code",
   "execution_count": null,
   "metadata": {},
   "outputs": [],
   "source": [
    "print(\"Decision Tree RMSE: {:.2f}\".format(mean_squared_error(yreg_test, tree.predict(Xreg_test))))"
   ]
  },
  {
   "cell_type": "code",
   "execution_count": null,
   "metadata": {},
   "outputs": [],
   "source": [
    "print(\"Feature importances:\\n{}\".format(tree.feature_importances_))"
   ]
  },
  {
   "cell_type": "markdown",
   "metadata": {},
   "source": [
    "before moving on to random forests, play with max_depth"
   ]
  },
  {
   "cell_type": "code",
   "execution_count": null,
   "metadata": {},
   "outputs": [],
   "source": [
    "from sklearn.ensemble import RandomForestRegressor"
   ]
  },
  {
   "cell_type": "code",
   "execution_count": null,
   "metadata": {},
   "outputs": [],
   "source": [
    "forest = RandomForestRegressor(n_estimators=5, random_state=2) forest.fit(X_train, y_train) "
   ]
  },
  {
   "cell_type": "code",
   "execution_count": null,
   "metadata": {},
   "outputs": [],
   "source": [
    "print(\"Accuracy on training set: {:.3f}\".format(forest.score(X_train, y_train)))\n",
    "print(\"Accuracy on test set: {:.3f}\".format(forest.score(X_test, y_test)))"
   ]
  },
  {
   "cell_type": "markdown",
   "metadata": {},
   "source": [
    "play with max_features: a high max_features means that the trees in the random forest will be quite similar, and they will be able to fit the data easily, using the most distinctive features. A low max_features means that the trees in the random forest will be quite different, and that each tree might need to be very deep in order to fit the data well. "
   ]
  },
  {
   "cell_type": "markdown",
   "metadata": {},
   "source": [
    "play with max_depth, n_estimators, and max_features"
   ]
  },
  {
   "cell_type": "markdown",
   "metadata": {},
   "source": [
    "Gradient boosted regression trees!"
   ]
  },
  {
   "cell_type": "code",
   "execution_count": null,
   "metadata": {},
   "outputs": [],
   "source": [
    "from sklearn.ensemble import GradientBoostingClassifier\n",
    "\n",
    "gbrt = GradientBoostingClassifier(n_estimators=100, random_state=0)\n",
    "gbrt.fit(X_train, y_train)\n",
    "\n",
    "print(\"Accuracy on training set: {:.3f}\".format(gbrt.score(X_train, y_train)))\n",
    "print(\"Accuracy on test set: {:.3f}\".format(gbrt.score(X_test, y_test)))"
   ]
  },
  {
   "cell_type": "code",
   "execution_count": null,
   "metadata": {},
   "outputs": [],
   "source": [
    "gbrt1 = GradientBoostingClassifier(random_state=0, max_depth=1)\n",
    "gbrt1.fit(X_train, y_train)\n",
    "\n",
    "print(\"Accuracy on training set: {:.3f}\".format(gbrt1.score(X_train, y_train)))\n",
    "print(\"Accuracy on test set: {:.3f}\".format(gbrt1.score(X_test, y_test)))"
   ]
  },
  {
   "cell_type": "code",
   "execution_count": null,
   "metadata": {},
   "outputs": [],
   "source": [
    "gbrt2 = GradientBoostingClassifier(n_estimators=10,random_state=0, learning_rate=0.9)\n",
    "gbrt2.fit(X_train, y_train)\n",
    "\n",
    "print(\"Accuracy on training set: {:.3f}\".format(gbrt2.score(X_train, y_train)))\n",
    "print(\"Accuracy on test set: {:.3f}\".format(gbrt2.score(X_test, y_test)))"
   ]
  },
  {
   "cell_type": "code",
   "execution_count": null,
   "metadata": {},
   "outputs": [],
   "source": [
    "plot_feature_importances_cancer(gbrt)"
   ]
  }
 ],
 "metadata": {
  "kernelspec": {
   "display_name": "Python 3",
   "language": "python",
   "name": "python3"
  },
  "language_info": {
   "codemirror_mode": {
    "name": "ipython",
    "version": 3
   },
   "file_extension": ".py",
   "mimetype": "text/x-python",
   "name": "python",
   "nbconvert_exporter": "python",
   "pygments_lexer": "ipython3",
   "version": "3.7.4"
  }
 },
 "nbformat": 4,
 "nbformat_minor": 2
}
